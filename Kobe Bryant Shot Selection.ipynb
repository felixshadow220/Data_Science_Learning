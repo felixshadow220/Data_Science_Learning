{
 "cells": [
  {
   "cell_type": "code",
   "execution_count": 1,
   "metadata": {},
   "outputs": [],
   "source": [
    "import numpy as np # linear algebra\n",
    "import pandas as pd # data processing, CSV file I/O (e.g. pd.read_csv)\n",
    "import matplotlib.pyplot as plt\n",
    "import seaborn as sns\n",
    "from sklearn.metrics import roc_auc_score\n",
    "from sklearn.model_selection import GridSearchCV, StratifiedKFold, train_test_split\n",
    "from sklearn.metrics import roc_curve\n",
    "from sklearn.linear_model import LogisticRegression\n",
    "\n",
    "# Figures inline and set visualization style\n",
    "%matplotlib inline\n",
    "sns.set()"
   ]
  },
  {
   "cell_type": "code",
   "execution_count": 2,
   "metadata": {},
   "outputs": [],
   "source": [
    "kobe_df = pd.read_csv(\"data.csv\")"
   ]
  },
  {
   "cell_type": "markdown",
   "metadata": {},
   "source": [
    "Predictor/label: shot_made_flag (this is what you are predicting)"
   ]
  },
  {
   "cell_type": "code",
   "execution_count": 3,
   "metadata": {},
   "outputs": [
    {
     "data": {
      "text/html": [
       "<div>\n",
       "<style scoped>\n",
       "    .dataframe tbody tr th:only-of-type {\n",
       "        vertical-align: middle;\n",
       "    }\n",
       "\n",
       "    .dataframe tbody tr th {\n",
       "        vertical-align: top;\n",
       "    }\n",
       "\n",
       "    .dataframe thead th {\n",
       "        text-align: right;\n",
       "    }\n",
       "</style>\n",
       "<table border=\"1\" class=\"dataframe\">\n",
       "  <thead>\n",
       "    <tr style=\"text-align: right;\">\n",
       "      <th></th>\n",
       "      <th>action_type</th>\n",
       "      <th>combined_shot_type</th>\n",
       "      <th>game_event_id</th>\n",
       "      <th>game_id</th>\n",
       "      <th>lat</th>\n",
       "      <th>loc_x</th>\n",
       "      <th>loc_y</th>\n",
       "      <th>lon</th>\n",
       "      <th>minutes_remaining</th>\n",
       "      <th>period</th>\n",
       "      <th>...</th>\n",
       "      <th>shot_type</th>\n",
       "      <th>shot_zone_area</th>\n",
       "      <th>shot_zone_basic</th>\n",
       "      <th>shot_zone_range</th>\n",
       "      <th>team_id</th>\n",
       "      <th>team_name</th>\n",
       "      <th>game_date</th>\n",
       "      <th>matchup</th>\n",
       "      <th>opponent</th>\n",
       "      <th>shot_id</th>\n",
       "    </tr>\n",
       "  </thead>\n",
       "  <tbody>\n",
       "    <tr>\n",
       "      <td>0</td>\n",
       "      <td>Jump Shot</td>\n",
       "      <td>Jump Shot</td>\n",
       "      <td>10</td>\n",
       "      <td>20000012</td>\n",
       "      <td>33.9723</td>\n",
       "      <td>167</td>\n",
       "      <td>72</td>\n",
       "      <td>-118.1028</td>\n",
       "      <td>10</td>\n",
       "      <td>1</td>\n",
       "      <td>...</td>\n",
       "      <td>2PT Field Goal</td>\n",
       "      <td>Right Side(R)</td>\n",
       "      <td>Mid-Range</td>\n",
       "      <td>16-24 ft.</td>\n",
       "      <td>1610612747</td>\n",
       "      <td>Los Angeles Lakers</td>\n",
       "      <td>2000-10-31</td>\n",
       "      <td>LAL @ POR</td>\n",
       "      <td>POR</td>\n",
       "      <td>1</td>\n",
       "    </tr>\n",
       "    <tr>\n",
       "      <td>1</td>\n",
       "      <td>Jump Shot</td>\n",
       "      <td>Jump Shot</td>\n",
       "      <td>12</td>\n",
       "      <td>20000012</td>\n",
       "      <td>34.0443</td>\n",
       "      <td>-157</td>\n",
       "      <td>0</td>\n",
       "      <td>-118.4268</td>\n",
       "      <td>10</td>\n",
       "      <td>1</td>\n",
       "      <td>...</td>\n",
       "      <td>2PT Field Goal</td>\n",
       "      <td>Left Side(L)</td>\n",
       "      <td>Mid-Range</td>\n",
       "      <td>8-16 ft.</td>\n",
       "      <td>1610612747</td>\n",
       "      <td>Los Angeles Lakers</td>\n",
       "      <td>2000-10-31</td>\n",
       "      <td>LAL @ POR</td>\n",
       "      <td>POR</td>\n",
       "      <td>2</td>\n",
       "    </tr>\n",
       "    <tr>\n",
       "      <td>2</td>\n",
       "      <td>Jump Shot</td>\n",
       "      <td>Jump Shot</td>\n",
       "      <td>35</td>\n",
       "      <td>20000012</td>\n",
       "      <td>33.9093</td>\n",
       "      <td>-101</td>\n",
       "      <td>135</td>\n",
       "      <td>-118.3708</td>\n",
       "      <td>7</td>\n",
       "      <td>1</td>\n",
       "      <td>...</td>\n",
       "      <td>2PT Field Goal</td>\n",
       "      <td>Left Side Center(LC)</td>\n",
       "      <td>Mid-Range</td>\n",
       "      <td>16-24 ft.</td>\n",
       "      <td>1610612747</td>\n",
       "      <td>Los Angeles Lakers</td>\n",
       "      <td>2000-10-31</td>\n",
       "      <td>LAL @ POR</td>\n",
       "      <td>POR</td>\n",
       "      <td>3</td>\n",
       "    </tr>\n",
       "    <tr>\n",
       "      <td>3</td>\n",
       "      <td>Jump Shot</td>\n",
       "      <td>Jump Shot</td>\n",
       "      <td>43</td>\n",
       "      <td>20000012</td>\n",
       "      <td>33.8693</td>\n",
       "      <td>138</td>\n",
       "      <td>175</td>\n",
       "      <td>-118.1318</td>\n",
       "      <td>6</td>\n",
       "      <td>1</td>\n",
       "      <td>...</td>\n",
       "      <td>2PT Field Goal</td>\n",
       "      <td>Right Side Center(RC)</td>\n",
       "      <td>Mid-Range</td>\n",
       "      <td>16-24 ft.</td>\n",
       "      <td>1610612747</td>\n",
       "      <td>Los Angeles Lakers</td>\n",
       "      <td>2000-10-31</td>\n",
       "      <td>LAL @ POR</td>\n",
       "      <td>POR</td>\n",
       "      <td>4</td>\n",
       "    </tr>\n",
       "    <tr>\n",
       "      <td>4</td>\n",
       "      <td>Driving Dunk Shot</td>\n",
       "      <td>Dunk</td>\n",
       "      <td>155</td>\n",
       "      <td>20000012</td>\n",
       "      <td>34.0443</td>\n",
       "      <td>0</td>\n",
       "      <td>0</td>\n",
       "      <td>-118.2698</td>\n",
       "      <td>6</td>\n",
       "      <td>2</td>\n",
       "      <td>...</td>\n",
       "      <td>2PT Field Goal</td>\n",
       "      <td>Center(C)</td>\n",
       "      <td>Restricted Area</td>\n",
       "      <td>Less Than 8 ft.</td>\n",
       "      <td>1610612747</td>\n",
       "      <td>Los Angeles Lakers</td>\n",
       "      <td>2000-10-31</td>\n",
       "      <td>LAL @ POR</td>\n",
       "      <td>POR</td>\n",
       "      <td>5</td>\n",
       "    </tr>\n",
       "    <tr>\n",
       "      <td>5</td>\n",
       "      <td>Jump Shot</td>\n",
       "      <td>Jump Shot</td>\n",
       "      <td>244</td>\n",
       "      <td>20000012</td>\n",
       "      <td>34.0553</td>\n",
       "      <td>-145</td>\n",
       "      <td>-11</td>\n",
       "      <td>-118.4148</td>\n",
       "      <td>9</td>\n",
       "      <td>3</td>\n",
       "      <td>...</td>\n",
       "      <td>2PT Field Goal</td>\n",
       "      <td>Left Side(L)</td>\n",
       "      <td>Mid-Range</td>\n",
       "      <td>8-16 ft.</td>\n",
       "      <td>1610612747</td>\n",
       "      <td>Los Angeles Lakers</td>\n",
       "      <td>2000-10-31</td>\n",
       "      <td>LAL @ POR</td>\n",
       "      <td>POR</td>\n",
       "      <td>6</td>\n",
       "    </tr>\n",
       "    <tr>\n",
       "      <td>6</td>\n",
       "      <td>Layup Shot</td>\n",
       "      <td>Layup</td>\n",
       "      <td>251</td>\n",
       "      <td>20000012</td>\n",
       "      <td>34.0443</td>\n",
       "      <td>0</td>\n",
       "      <td>0</td>\n",
       "      <td>-118.2698</td>\n",
       "      <td>8</td>\n",
       "      <td>3</td>\n",
       "      <td>...</td>\n",
       "      <td>2PT Field Goal</td>\n",
       "      <td>Center(C)</td>\n",
       "      <td>Restricted Area</td>\n",
       "      <td>Less Than 8 ft.</td>\n",
       "      <td>1610612747</td>\n",
       "      <td>Los Angeles Lakers</td>\n",
       "      <td>2000-10-31</td>\n",
       "      <td>LAL @ POR</td>\n",
       "      <td>POR</td>\n",
       "      <td>7</td>\n",
       "    </tr>\n",
       "    <tr>\n",
       "      <td>7</td>\n",
       "      <td>Jump Shot</td>\n",
       "      <td>Jump Shot</td>\n",
       "      <td>254</td>\n",
       "      <td>20000012</td>\n",
       "      <td>34.0163</td>\n",
       "      <td>1</td>\n",
       "      <td>28</td>\n",
       "      <td>-118.2688</td>\n",
       "      <td>8</td>\n",
       "      <td>3</td>\n",
       "      <td>...</td>\n",
       "      <td>2PT Field Goal</td>\n",
       "      <td>Center(C)</td>\n",
       "      <td>Restricted Area</td>\n",
       "      <td>Less Than 8 ft.</td>\n",
       "      <td>1610612747</td>\n",
       "      <td>Los Angeles Lakers</td>\n",
       "      <td>2000-10-31</td>\n",
       "      <td>LAL @ POR</td>\n",
       "      <td>POR</td>\n",
       "      <td>8</td>\n",
       "    </tr>\n",
       "    <tr>\n",
       "      <td>8</td>\n",
       "      <td>Jump Shot</td>\n",
       "      <td>Jump Shot</td>\n",
       "      <td>265</td>\n",
       "      <td>20000012</td>\n",
       "      <td>33.9363</td>\n",
       "      <td>-65</td>\n",
       "      <td>108</td>\n",
       "      <td>-118.3348</td>\n",
       "      <td>6</td>\n",
       "      <td>3</td>\n",
       "      <td>...</td>\n",
       "      <td>2PT Field Goal</td>\n",
       "      <td>Left Side(L)</td>\n",
       "      <td>In The Paint (Non-RA)</td>\n",
       "      <td>8-16 ft.</td>\n",
       "      <td>1610612747</td>\n",
       "      <td>Los Angeles Lakers</td>\n",
       "      <td>2000-10-31</td>\n",
       "      <td>LAL @ POR</td>\n",
       "      <td>POR</td>\n",
       "      <td>9</td>\n",
       "    </tr>\n",
       "    <tr>\n",
       "      <td>9</td>\n",
       "      <td>Running Jump Shot</td>\n",
       "      <td>Jump Shot</td>\n",
       "      <td>294</td>\n",
       "      <td>20000012</td>\n",
       "      <td>33.9193</td>\n",
       "      <td>-33</td>\n",
       "      <td>125</td>\n",
       "      <td>-118.3028</td>\n",
       "      <td>3</td>\n",
       "      <td>3</td>\n",
       "      <td>...</td>\n",
       "      <td>2PT Field Goal</td>\n",
       "      <td>Center(C)</td>\n",
       "      <td>In The Paint (Non-RA)</td>\n",
       "      <td>8-16 ft.</td>\n",
       "      <td>1610612747</td>\n",
       "      <td>Los Angeles Lakers</td>\n",
       "      <td>2000-10-31</td>\n",
       "      <td>LAL @ POR</td>\n",
       "      <td>POR</td>\n",
       "      <td>10</td>\n",
       "    </tr>\n",
       "  </tbody>\n",
       "</table>\n",
       "<p>10 rows × 25 columns</p>\n",
       "</div>"
      ],
      "text/plain": [
       "         action_type combined_shot_type  game_event_id   game_id      lat  \\\n",
       "0          Jump Shot          Jump Shot             10  20000012  33.9723   \n",
       "1          Jump Shot          Jump Shot             12  20000012  34.0443   \n",
       "2          Jump Shot          Jump Shot             35  20000012  33.9093   \n",
       "3          Jump Shot          Jump Shot             43  20000012  33.8693   \n",
       "4  Driving Dunk Shot               Dunk            155  20000012  34.0443   \n",
       "5          Jump Shot          Jump Shot            244  20000012  34.0553   \n",
       "6         Layup Shot              Layup            251  20000012  34.0443   \n",
       "7          Jump Shot          Jump Shot            254  20000012  34.0163   \n",
       "8          Jump Shot          Jump Shot            265  20000012  33.9363   \n",
       "9  Running Jump Shot          Jump Shot            294  20000012  33.9193   \n",
       "\n",
       "   loc_x  loc_y       lon  minutes_remaining  period  ...       shot_type  \\\n",
       "0    167     72 -118.1028                 10       1  ...  2PT Field Goal   \n",
       "1   -157      0 -118.4268                 10       1  ...  2PT Field Goal   \n",
       "2   -101    135 -118.3708                  7       1  ...  2PT Field Goal   \n",
       "3    138    175 -118.1318                  6       1  ...  2PT Field Goal   \n",
       "4      0      0 -118.2698                  6       2  ...  2PT Field Goal   \n",
       "5   -145    -11 -118.4148                  9       3  ...  2PT Field Goal   \n",
       "6      0      0 -118.2698                  8       3  ...  2PT Field Goal   \n",
       "7      1     28 -118.2688                  8       3  ...  2PT Field Goal   \n",
       "8    -65    108 -118.3348                  6       3  ...  2PT Field Goal   \n",
       "9    -33    125 -118.3028                  3       3  ...  2PT Field Goal   \n",
       "\n",
       "          shot_zone_area        shot_zone_basic  shot_zone_range     team_id  \\\n",
       "0          Right Side(R)              Mid-Range        16-24 ft.  1610612747   \n",
       "1           Left Side(L)              Mid-Range         8-16 ft.  1610612747   \n",
       "2   Left Side Center(LC)              Mid-Range        16-24 ft.  1610612747   \n",
       "3  Right Side Center(RC)              Mid-Range        16-24 ft.  1610612747   \n",
       "4              Center(C)        Restricted Area  Less Than 8 ft.  1610612747   \n",
       "5           Left Side(L)              Mid-Range         8-16 ft.  1610612747   \n",
       "6              Center(C)        Restricted Area  Less Than 8 ft.  1610612747   \n",
       "7              Center(C)        Restricted Area  Less Than 8 ft.  1610612747   \n",
       "8           Left Side(L)  In The Paint (Non-RA)         8-16 ft.  1610612747   \n",
       "9              Center(C)  In The Paint (Non-RA)         8-16 ft.  1610612747   \n",
       "\n",
       "            team_name   game_date    matchup opponent  shot_id  \n",
       "0  Los Angeles Lakers  2000-10-31  LAL @ POR      POR        1  \n",
       "1  Los Angeles Lakers  2000-10-31  LAL @ POR      POR        2  \n",
       "2  Los Angeles Lakers  2000-10-31  LAL @ POR      POR        3  \n",
       "3  Los Angeles Lakers  2000-10-31  LAL @ POR      POR        4  \n",
       "4  Los Angeles Lakers  2000-10-31  LAL @ POR      POR        5  \n",
       "5  Los Angeles Lakers  2000-10-31  LAL @ POR      POR        6  \n",
       "6  Los Angeles Lakers  2000-10-31  LAL @ POR      POR        7  \n",
       "7  Los Angeles Lakers  2000-10-31  LAL @ POR      POR        8  \n",
       "8  Los Angeles Lakers  2000-10-31  LAL @ POR      POR        9  \n",
       "9  Los Angeles Lakers  2000-10-31  LAL @ POR      POR       10  \n",
       "\n",
       "[10 rows x 25 columns]"
      ]
     },
     "execution_count": 3,
     "metadata": {},
     "output_type": "execute_result"
    }
   ],
   "source": [
    "kobe_df.head(10)"
   ]
  },
  {
   "cell_type": "code",
   "execution_count": 4,
   "metadata": {},
   "outputs": [
    {
     "data": {
      "text/plain": [
       "(30697, 25)"
      ]
     },
     "execution_count": 4,
     "metadata": {},
     "output_type": "execute_result"
    }
   ],
   "source": [
    "kobe_df.shape"
   ]
  },
  {
   "cell_type": "code",
   "execution_count": 5,
   "metadata": {},
   "outputs": [
    {
     "data": {
      "text/html": [
       "<div>\n",
       "<style scoped>\n",
       "    .dataframe tbody tr th:only-of-type {\n",
       "        vertical-align: middle;\n",
       "    }\n",
       "\n",
       "    .dataframe tbody tr th {\n",
       "        vertical-align: top;\n",
       "    }\n",
       "\n",
       "    .dataframe thead th {\n",
       "        text-align: right;\n",
       "    }\n",
       "</style>\n",
       "<table border=\"1\" class=\"dataframe\">\n",
       "  <thead>\n",
       "    <tr style=\"text-align: right;\">\n",
       "      <th></th>\n",
       "      <th>game_event_id</th>\n",
       "      <th>game_id</th>\n",
       "      <th>lat</th>\n",
       "      <th>loc_x</th>\n",
       "      <th>loc_y</th>\n",
       "      <th>lon</th>\n",
       "      <th>minutes_remaining</th>\n",
       "      <th>period</th>\n",
       "      <th>playoffs</th>\n",
       "      <th>seconds_remaining</th>\n",
       "      <th>shot_distance</th>\n",
       "      <th>shot_made_flag</th>\n",
       "      <th>team_id</th>\n",
       "      <th>shot_id</th>\n",
       "    </tr>\n",
       "  </thead>\n",
       "  <tbody>\n",
       "    <tr>\n",
       "      <td>count</td>\n",
       "      <td>30697.000000</td>\n",
       "      <td>3.069700e+04</td>\n",
       "      <td>30697.000000</td>\n",
       "      <td>30697.000000</td>\n",
       "      <td>30697.000000</td>\n",
       "      <td>30697.000000</td>\n",
       "      <td>30697.000000</td>\n",
       "      <td>30697.000000</td>\n",
       "      <td>30697.000000</td>\n",
       "      <td>30697.000000</td>\n",
       "      <td>30697.000000</td>\n",
       "      <td>25697.000000</td>\n",
       "      <td>3.069700e+04</td>\n",
       "      <td>30697.000000</td>\n",
       "    </tr>\n",
       "    <tr>\n",
       "      <td>mean</td>\n",
       "      <td>249.190800</td>\n",
       "      <td>2.476407e+07</td>\n",
       "      <td>33.953192</td>\n",
       "      <td>7.110499</td>\n",
       "      <td>91.107535</td>\n",
       "      <td>-118.262690</td>\n",
       "      <td>4.885624</td>\n",
       "      <td>2.519432</td>\n",
       "      <td>0.146562</td>\n",
       "      <td>28.365085</td>\n",
       "      <td>13.437437</td>\n",
       "      <td>0.446161</td>\n",
       "      <td>1.610613e+09</td>\n",
       "      <td>15349.000000</td>\n",
       "    </tr>\n",
       "    <tr>\n",
       "      <td>std</td>\n",
       "      <td>150.003712</td>\n",
       "      <td>7.755175e+06</td>\n",
       "      <td>0.087791</td>\n",
       "      <td>110.124578</td>\n",
       "      <td>87.791361</td>\n",
       "      <td>0.110125</td>\n",
       "      <td>3.449897</td>\n",
       "      <td>1.153665</td>\n",
       "      <td>0.353674</td>\n",
       "      <td>17.478949</td>\n",
       "      <td>9.374189</td>\n",
       "      <td>0.497103</td>\n",
       "      <td>0.000000e+00</td>\n",
       "      <td>8861.604943</td>\n",
       "    </tr>\n",
       "    <tr>\n",
       "      <td>min</td>\n",
       "      <td>2.000000</td>\n",
       "      <td>2.000001e+07</td>\n",
       "      <td>33.253300</td>\n",
       "      <td>-250.000000</td>\n",
       "      <td>-44.000000</td>\n",
       "      <td>-118.519800</td>\n",
       "      <td>0.000000</td>\n",
       "      <td>1.000000</td>\n",
       "      <td>0.000000</td>\n",
       "      <td>0.000000</td>\n",
       "      <td>0.000000</td>\n",
       "      <td>0.000000</td>\n",
       "      <td>1.610613e+09</td>\n",
       "      <td>1.000000</td>\n",
       "    </tr>\n",
       "    <tr>\n",
       "      <td>25%</td>\n",
       "      <td>110.000000</td>\n",
       "      <td>2.050008e+07</td>\n",
       "      <td>33.884300</td>\n",
       "      <td>-68.000000</td>\n",
       "      <td>4.000000</td>\n",
       "      <td>-118.337800</td>\n",
       "      <td>2.000000</td>\n",
       "      <td>1.000000</td>\n",
       "      <td>0.000000</td>\n",
       "      <td>13.000000</td>\n",
       "      <td>5.000000</td>\n",
       "      <td>0.000000</td>\n",
       "      <td>1.610613e+09</td>\n",
       "      <td>7675.000000</td>\n",
       "    </tr>\n",
       "    <tr>\n",
       "      <td>50%</td>\n",
       "      <td>253.000000</td>\n",
       "      <td>2.090035e+07</td>\n",
       "      <td>33.970300</td>\n",
       "      <td>0.000000</td>\n",
       "      <td>74.000000</td>\n",
       "      <td>-118.269800</td>\n",
       "      <td>5.000000</td>\n",
       "      <td>3.000000</td>\n",
       "      <td>0.000000</td>\n",
       "      <td>28.000000</td>\n",
       "      <td>15.000000</td>\n",
       "      <td>0.000000</td>\n",
       "      <td>1.610613e+09</td>\n",
       "      <td>15349.000000</td>\n",
       "    </tr>\n",
       "    <tr>\n",
       "      <td>75%</td>\n",
       "      <td>368.000000</td>\n",
       "      <td>2.960047e+07</td>\n",
       "      <td>34.040300</td>\n",
       "      <td>95.000000</td>\n",
       "      <td>160.000000</td>\n",
       "      <td>-118.174800</td>\n",
       "      <td>8.000000</td>\n",
       "      <td>3.000000</td>\n",
       "      <td>0.000000</td>\n",
       "      <td>43.000000</td>\n",
       "      <td>21.000000</td>\n",
       "      <td>1.000000</td>\n",
       "      <td>1.610613e+09</td>\n",
       "      <td>23023.000000</td>\n",
       "    </tr>\n",
       "    <tr>\n",
       "      <td>max</td>\n",
       "      <td>659.000000</td>\n",
       "      <td>4.990009e+07</td>\n",
       "      <td>34.088300</td>\n",
       "      <td>248.000000</td>\n",
       "      <td>791.000000</td>\n",
       "      <td>-118.021800</td>\n",
       "      <td>11.000000</td>\n",
       "      <td>7.000000</td>\n",
       "      <td>1.000000</td>\n",
       "      <td>59.000000</td>\n",
       "      <td>79.000000</td>\n",
       "      <td>1.000000</td>\n",
       "      <td>1.610613e+09</td>\n",
       "      <td>30697.000000</td>\n",
       "    </tr>\n",
       "  </tbody>\n",
       "</table>\n",
       "</div>"
      ],
      "text/plain": [
       "       game_event_id       game_id           lat         loc_x         loc_y  \\\n",
       "count   30697.000000  3.069700e+04  30697.000000  30697.000000  30697.000000   \n",
       "mean      249.190800  2.476407e+07     33.953192      7.110499     91.107535   \n",
       "std       150.003712  7.755175e+06      0.087791    110.124578     87.791361   \n",
       "min         2.000000  2.000001e+07     33.253300   -250.000000    -44.000000   \n",
       "25%       110.000000  2.050008e+07     33.884300    -68.000000      4.000000   \n",
       "50%       253.000000  2.090035e+07     33.970300      0.000000     74.000000   \n",
       "75%       368.000000  2.960047e+07     34.040300     95.000000    160.000000   \n",
       "max       659.000000  4.990009e+07     34.088300    248.000000    791.000000   \n",
       "\n",
       "                lon  minutes_remaining        period      playoffs  \\\n",
       "count  30697.000000       30697.000000  30697.000000  30697.000000   \n",
       "mean    -118.262690           4.885624      2.519432      0.146562   \n",
       "std        0.110125           3.449897      1.153665      0.353674   \n",
       "min     -118.519800           0.000000      1.000000      0.000000   \n",
       "25%     -118.337800           2.000000      1.000000      0.000000   \n",
       "50%     -118.269800           5.000000      3.000000      0.000000   \n",
       "75%     -118.174800           8.000000      3.000000      0.000000   \n",
       "max     -118.021800          11.000000      7.000000      1.000000   \n",
       "\n",
       "       seconds_remaining  shot_distance  shot_made_flag       team_id  \\\n",
       "count       30697.000000   30697.000000    25697.000000  3.069700e+04   \n",
       "mean           28.365085      13.437437        0.446161  1.610613e+09   \n",
       "std            17.478949       9.374189        0.497103  0.000000e+00   \n",
       "min             0.000000       0.000000        0.000000  1.610613e+09   \n",
       "25%            13.000000       5.000000        0.000000  1.610613e+09   \n",
       "50%            28.000000      15.000000        0.000000  1.610613e+09   \n",
       "75%            43.000000      21.000000        1.000000  1.610613e+09   \n",
       "max            59.000000      79.000000        1.000000  1.610613e+09   \n",
       "\n",
       "            shot_id  \n",
       "count  30697.000000  \n",
       "mean   15349.000000  \n",
       "std     8861.604943  \n",
       "min        1.000000  \n",
       "25%     7675.000000  \n",
       "50%    15349.000000  \n",
       "75%    23023.000000  \n",
       "max    30697.000000  "
      ]
     },
     "execution_count": 5,
     "metadata": {},
     "output_type": "execute_result"
    }
   ],
   "source": [
    "kobe_df.describe()"
   ]
  },
  {
   "cell_type": "code",
   "execution_count": 6,
   "metadata": {},
   "outputs": [
    {
     "name": "stdout",
     "output_type": "stream",
     "text": [
      "<class 'pandas.core.frame.DataFrame'>\n",
      "RangeIndex: 30697 entries, 0 to 30696\n",
      "Data columns (total 25 columns):\n",
      "action_type           30697 non-null object\n",
      "combined_shot_type    30697 non-null object\n",
      "game_event_id         30697 non-null int64\n",
      "game_id               30697 non-null int64\n",
      "lat                   30697 non-null float64\n",
      "loc_x                 30697 non-null int64\n",
      "loc_y                 30697 non-null int64\n",
      "lon                   30697 non-null float64\n",
      "minutes_remaining     30697 non-null int64\n",
      "period                30697 non-null int64\n",
      "playoffs              30697 non-null int64\n",
      "season                30697 non-null object\n",
      "seconds_remaining     30697 non-null int64\n",
      "shot_distance         30697 non-null int64\n",
      "shot_made_flag        25697 non-null float64\n",
      "shot_type             30697 non-null object\n",
      "shot_zone_area        30697 non-null object\n",
      "shot_zone_basic       30697 non-null object\n",
      "shot_zone_range       30697 non-null object\n",
      "team_id               30697 non-null int64\n",
      "team_name             30697 non-null object\n",
      "game_date             30697 non-null object\n",
      "matchup               30697 non-null object\n",
      "opponent              30697 non-null object\n",
      "shot_id               30697 non-null int64\n",
      "dtypes: float64(3), int64(11), object(11)\n",
      "memory usage: 5.9+ MB\n"
     ]
    }
   ],
   "source": [
    "kobe_df.info()"
   ]
  },
  {
   "cell_type": "code",
   "execution_count": 7,
   "metadata": {},
   "outputs": [
    {
     "data": {
      "text/plain": [
       "((25697, 25), (5000, 25))"
      ]
     },
     "execution_count": 7,
     "metadata": {},
     "output_type": "execute_result"
    }
   ],
   "source": [
    "# separate the training and testing set from the dataset\n",
    "train_df = kobe_df[kobe_df[\"shot_made_flag\"].notna()]\n",
    "test_df = kobe_df[kobe_df[\"shot_made_flag\"].isna()]\n",
    "\n",
    "train_df.shape, test_df.shape"
   ]
  },
  {
   "cell_type": "markdown",
   "metadata": {},
   "source": [
    "# EDA"
   ]
  },
  {
   "cell_type": "markdown",
   "metadata": {},
   "source": [
    "## Action Type/ Shot Type/ Combined Shot Type"
   ]
  },
  {
   "cell_type": "code",
   "execution_count": 8,
   "metadata": {},
   "outputs": [],
   "source": [
    "# No Missing data in the file\n",
    "# Classification - made or miss"
   ]
  },
  {
   "cell_type": "code",
   "execution_count": 9,
   "metadata": {},
   "outputs": [
    {
     "data": {
      "text/plain": [
       "Text(0.5, 1.0, \"Field Goal Miss/Made During Kobe's Career\")"
      ]
     },
     "execution_count": 9,
     "metadata": {},
     "output_type": "execute_result"
    },
    {
     "data": {
      "image/png": "[encoded data removed]",
      "text/plain": [
       "<Figure size 864x576 with 1 Axes>"
      ]
     },
     "metadata": {
      "needs_background": "light"
     },
     "output_type": "display_data"
    }
   ],
   "source": [
    "# plot the field goal that Kobe made or miss during his career (plot label)\n",
    "plt.figure(figsize=(12, 8))\n",
    "v1 = sns.countplot(x=\"shot_made_flag\", data=train_df)\n",
    "plt.xlabel(\"Miss/Made\") # set x axis label\n",
    "plt.title(\"Field Goal Miss/Made During Kobe's Career\") # set title"
   ]
  },
  {
   "cell_type": "code",
   "execution_count": 10,
   "metadata": {},
   "outputs": [
    {
     "data": {
      "image/png": "[encoded data removed]",
      "text/plain": [
       "<Figure size 1080x720 with 2 Axes>"
      ]
     },
     "metadata": {
      "needs_background": "light"
     },
     "output_type": "display_data"
    }
   ],
   "source": [
    "corr = train_df.corr()\n",
    "g = sns.heatmap(corr,  vmax=1, center=0,\n",
    "            square=True, linewidths=.5, cbar_kws={\"shrink\": .5}, annot=True, fmt='.2f', cmap='coolwarm')\n",
    "sns.despine()\n",
    "g.figure.set_size_inches(15,10)\n",
    "    \n",
    "plt.show()"
   ]
  },
  {
   "cell_type": "code",
   "execution_count": 11,
   "metadata": {},
   "outputs": [
    {
     "data": {
      "image/png": "[encoded data removed]",
      "text/plain": [
       "<Figure size 864x576 with 1 Axes>"
      ]
     },
     "metadata": {
      "needs_background": "light"
     },
     "output_type": "display_data"
    }
   ],
   "source": [
    "plt.figure(figsize=(12, 8))\n",
    "v2 = sns.countplot(x=\"shot_made_flag\",hue=\"combined_shot_type\", data=train_df)\n",
    "# Jumpshot dominated the shot type\n",
    "# Can consider extract jump shot from the shot type to look at them differently"
   ]
  },
  {
   "cell_type": "code",
   "execution_count": 12,
   "metadata": {},
   "outputs": [
    {
     "name": "stdout",
     "output_type": "stream",
     "text": [
      "Shot Type under Action Type Column\n",
      "*************************\n",
      "['Jump Shot' 'Driving Dunk Shot' 'Layup Shot' 'Running Jump Shot'\n",
      " 'Reverse Dunk Shot' 'Slam Dunk Shot' 'Driving Layup Shot'\n",
      " 'Turnaround Jump Shot' 'Reverse Layup Shot' 'Tip Shot'\n",
      " 'Running Hook Shot' 'Alley Oop Dunk Shot' 'Dunk Shot'\n",
      " 'Alley Oop Layup shot' 'Running Dunk Shot' 'Driving Finger Roll Shot'\n",
      " 'Running Layup Shot' 'Finger Roll Shot' 'Fadeaway Jump Shot'\n",
      " 'Follow Up Dunk Shot' 'Hook Shot' 'Turnaround Hook Shot' 'Jump Hook Shot'\n",
      " 'Running Finger Roll Shot' 'Jump Bank Shot' 'Turnaround Finger Roll Shot'\n",
      " 'Hook Bank Shot' 'Driving Hook Shot' 'Running Tip Shot'\n",
      " 'Running Reverse Layup Shot' 'Driving Finger Roll Layup Shot'\n",
      " 'Fadeaway Bank shot' 'Pullup Jump shot' 'Finger Roll Layup Shot'\n",
      " 'Turnaround Fadeaway shot' 'Driving Reverse Layup Shot'\n",
      " 'Driving Slam Dunk Shot' 'Step Back Jump shot' 'Turnaround Bank shot'\n",
      " 'Reverse Slam Dunk Shot' 'Floating Jump shot' 'Putback Slam Dunk Shot'\n",
      " 'Running Bank shot' 'Driving Bank shot' 'Driving Jump shot'\n",
      " 'Putback Layup Shot' 'Putback Dunk Shot' 'Running Finger Roll Layup Shot'\n",
      " 'Pullup Bank shot' 'Running Slam Dunk Shot' 'Cutting Layup Shot'\n",
      " 'Driving Floating Jump Shot' 'Running Pull-Up Jump Shot' 'Tip Layup Shot'\n",
      " 'Driving Floating Bank Jump Shot']\n",
      "\n",
      "\n",
      "Shot Type under Shot Type Column\n",
      "*************************\n",
      "['2PT Field Goal' '3PT Field Goal']\n",
      "\n",
      "\n",
      "Shot Type under Combined Shot Type Column\n",
      "*************************\n",
      "['Jump Shot' 'Dunk' 'Layup' 'Tip Shot' 'Hook Shot' 'Bank Shot']\n"
     ]
    }
   ],
   "source": [
    "print(\"Shot Type under Action Type Column\")\n",
    "print(\"*************************\")\n",
    "print(train_df[\"action_type\"].unique())\n",
    "print(\"\\n\")\n",
    "print(\"Shot Type under Shot Type Column\")\n",
    "print(\"*************************\")\n",
    "print(train_df[\"shot_type\"].unique())\n",
    "print(\"\\n\")\n",
    "print(\"Shot Type under Combined Shot Type Column\")\n",
    "print(\"*************************\")\n",
    "print(train_df[\"combined_shot_type\"].unique())"
   ]
  },
  {
   "cell_type": "code",
   "execution_count": 13,
   "metadata": {},
   "outputs": [
    {
     "name": "stdout",
     "output_type": "stream",
     "text": [
      "['2PT Field Goal' '3PT Field Goal']\n",
      "\n",
      "\n"
     ]
    }
   ],
   "source": [
    "print(train_df[\"shot_type\"].unique())\n",
    "print(\"\\n\")"
   ]
  },
  {
   "cell_type": "markdown",
   "metadata": {},
   "source": [
    "If we one-hot econded the action type, we may create too many variables for the dataset. Thus, I will choose to stick with Combined shot type first as they only have 6 variables at the moment.\n",
    "\n",
    "We will take shot type into consideration as well."
   ]
  },
  {
   "cell_type": "code",
   "execution_count": 14,
   "metadata": {},
   "outputs": [
    {
     "data": {
      "text/html": [
       "<div>\n",
       "<style scoped>\n",
       "    .dataframe tbody tr th:only-of-type {\n",
       "        vertical-align: middle;\n",
       "    }\n",
       "\n",
       "    .dataframe tbody tr th {\n",
       "        vertical-align: top;\n",
       "    }\n",
       "\n",
       "    .dataframe thead th {\n",
       "        text-align: right;\n",
       "    }\n",
       "</style>\n",
       "<table border=\"1\" class=\"dataframe\">\n",
       "  <thead>\n",
       "    <tr style=\"text-align: right;\">\n",
       "      <th></th>\n",
       "      <th>shot_type</th>\n",
       "      <th>mean</th>\n",
       "      <th>count</th>\n",
       "      <th>sum</th>\n",
       "    </tr>\n",
       "  </thead>\n",
       "  <tbody>\n",
       "    <tr>\n",
       "      <td>0</td>\n",
       "      <td>2PT Field Goal</td>\n",
       "      <td>0.477348</td>\n",
       "      <td>20285</td>\n",
       "      <td>9683.0</td>\n",
       "    </tr>\n",
       "    <tr>\n",
       "      <td>1</td>\n",
       "      <td>3PT Field Goal</td>\n",
       "      <td>0.329268</td>\n",
       "      <td>5412</td>\n",
       "      <td>1782.0</td>\n",
       "    </tr>\n",
       "  </tbody>\n",
       "</table>\n",
       "</div>"
      ],
      "text/plain": [
       "        shot_type      mean  count     sum\n",
       "0  2PT Field Goal  0.477348  20285  9683.0\n",
       "1  3PT Field Goal  0.329268   5412  1782.0"
      ]
     },
     "execution_count": 14,
     "metadata": {},
     "output_type": "execute_result"
    }
   ],
   "source": [
    "point_stat = train_df.groupby(\"shot_type\")[\"shot_made_flag\"].agg([\"mean\",\"count\",\"sum\"]).sort_values(ascending=False, by=\"count\").reset_index()\n",
    "point_stat # dataframe"
   ]
  },
  {
   "cell_type": "code",
   "execution_count": 15,
   "metadata": {},
   "outputs": [
    {
     "data": {
      "text/plain": [
       "Text(0.5, 1.0, \"Percentage of 2-pt and 3-pt Taken during Kobe's career\")"
      ]
     },
     "execution_count": 15,
     "metadata": {},
     "output_type": "execute_result"
    },
    {
     "data": {
      "text/plain": [
       "<Figure size 1800x1152 with 0 Axes>"
      ]
     },
     "metadata": {},
     "output_type": "display_data"
    },
    {
     "data": {
      "image/png": "[encoded data removed]",
      "text/plain": [
       "<Figure size 432x288 with 1 Axes>"
      ]
     },
     "metadata": {},
     "output_type": "display_data"
    }
   ],
   "source": [
    "# Create a pie chart to show what the percentage of each shot type he took during his career\n",
    "plt.figure(figsize=(25,16))\n",
    "fig1, v8 = plt.subplots()\n",
    "v8.pie(point_stat[\"count\"], labels=point_stat[\"shot_type\"], autopct='%1.1f%%',\n",
    "        shadow=True, startangle=90)\n",
    "v8.axis('equal')  # Equal aspect ratio ensures that pie is drawn as a circle.\n",
    "plt.title(\"Percentage of 2-pt and 3-pt Taken during Kobe's career\") # set title"
   ]
  },
  {
   "cell_type": "code",
   "execution_count": 16,
   "metadata": {},
   "outputs": [
    {
     "data": {
      "text/plain": [
       "Text(0.5, 1.0, \"Percentage of 2-pt and 3-pt Made during Kobe's career\")"
      ]
     },
     "execution_count": 16,
     "metadata": {},
     "output_type": "execute_result"
    },
    {
     "data": {
      "text/plain": [
       "<Figure size 1800x1152 with 0 Axes>"
      ]
     },
     "metadata": {},
     "output_type": "display_data"
    },
    {
     "data": {
      "image/png": "[encoded data removed]",
      "text/plain": [
       "<Figure size 432x288 with 1 Axes>"
      ]
     },
     "metadata": {},
     "output_type": "display_data"
    }
   ],
   "source": [
    "# Create a pie chart to show the percentage of each shot type he made during his career\n",
    "colors = ['#ff9999','#66b3ff','#99ff99','#ffcc99'] # add random color\n",
    "\n",
    "plt.figure(figsize=(25,16))\n",
    "fig2, v9 = plt.subplots()\n",
    "v9.pie(point_stat[\"sum\"], labels=point_stat[\"shot_type\"], autopct='%1.1f%%',\n",
    "       colors=colors, shadow=True, startangle=90)\n",
    "v9.axis('equal')  # Equal aspect ratio ensures that pie is drawn as a circle.\n",
    "plt.title(\"Percentage of 2-pt and 3-pt Made during Kobe's career\") # set title"
   ]
  },
  {
   "cell_type": "code",
   "execution_count": 17,
   "metadata": {},
   "outputs": [
    {
     "data": {
      "text/plain": [
       "Jump Shot    19710\n",
       "Layup         4532\n",
       "Dunk          1056\n",
       "Tip Shot       152\n",
       "Hook Shot      127\n",
       "Bank Shot      120\n",
       "Name: combined_shot_type, dtype: int64"
      ]
     },
     "execution_count": 17,
     "metadata": {},
     "output_type": "execute_result"
    }
   ],
   "source": [
    "train_df[\"combined_shot_type\"].value_counts()"
   ]
  },
  {
   "cell_type": "code",
   "execution_count": 18,
   "metadata": {},
   "outputs": [],
   "source": [
    "jump_shot_train = train_df.loc[train_df[\"combined_shot_type\"] == \"Jump Shot\"]\n",
    "n_jump_shot_train = train_df.loc[train_df[\"combined_shot_type\"] != \"Jump Shot\"]"
   ]
  },
  {
   "cell_type": "code",
   "execution_count": 19,
   "metadata": {},
   "outputs": [
    {
     "data": {
      "text/plain": [
       "Text(0.5, 1.0, \"Jump Shot Missed/Made During Kobe's Career\")"
      ]
     },
     "execution_count": 19,
     "metadata": {},
     "output_type": "execute_result"
    },
    {
     "data": {
      "image/png": "[encoded data removed]",
      "text/plain": [
       "<Figure size 864x576 with 1 Axes>"
      ]
     },
     "metadata": {
      "needs_background": "light"
     },
     "output_type": "display_data"
    }
   ],
   "source": [
    "plt.figure(figsize=(12, 8))\n",
    "v3 = sns.countplot(x=\"shot_made_flag\", data=jump_shot_train)\n",
    "plt.xlabel(\"Miss/Made\") # set x axis label\n",
    "plt.title(\"Jump Shot Missed/Made During Kobe's Career\") # set title"
   ]
  },
  {
   "cell_type": "code",
   "execution_count": 20,
   "metadata": {},
   "outputs": [
    {
     "data": {
      "text/plain": [
       "Text(0.5, 1.0, \"Non-Jump Shot Miss/Made During Kobe's Career\")"
      ]
     },
     "execution_count": 20,
     "metadata": {},
     "output_type": "execute_result"
    },
    {
     "data": {
      "image/png": "[encoded data removed]",
      "text/plain": [
       "<Figure size 864x576 with 1 Axes>"
      ]
     },
     "metadata": {
      "needs_background": "light"
     },
     "output_type": "display_data"
    }
   ],
   "source": [
    "plt.figure(figsize=(12, 8))\n",
    "v4 = sns.countplot(x=\"shot_made_flag\",hue=\"combined_shot_type\", data = n_jump_shot_train)\n",
    "plt.xlabel(\"Miss/Made\") # set x axis label\n",
    "plt.title(\"Non-Jump Shot Miss/Made During Kobe's Career\") # set title"
   ]
  },
  {
   "cell_type": "markdown",
   "metadata": {},
   "source": [
    "Kobe missed roughly 60% of his jumpshots, while making the rest of the 40%. However, he made siginficantly more dunk/layup (which makes sense as these are shots that are closer to the baskets)"
   ]
  },
  {
   "cell_type": "code",
   "execution_count": 21,
   "metadata": {},
   "outputs": [
    {
     "data": {
      "text/html": [
       "<div>\n",
       "<style scoped>\n",
       "    .dataframe tbody tr th:only-of-type {\n",
       "        vertical-align: middle;\n",
       "    }\n",
       "\n",
       "    .dataframe tbody tr th {\n",
       "        vertical-align: top;\n",
       "    }\n",
       "\n",
       "    .dataframe thead th {\n",
       "        text-align: right;\n",
       "    }\n",
       "</style>\n",
       "<table border=\"1\" class=\"dataframe\">\n",
       "  <thead>\n",
       "    <tr style=\"text-align: right;\">\n",
       "      <th></th>\n",
       "      <th>combined_shot_type</th>\n",
       "      <th>mean</th>\n",
       "      <th>count</th>\n",
       "      <th>sum</th>\n",
       "    </tr>\n",
       "  </thead>\n",
       "  <tbody>\n",
       "    <tr>\n",
       "      <td>0</td>\n",
       "      <td>Jump Shot</td>\n",
       "      <td>0.391071</td>\n",
       "      <td>19710</td>\n",
       "      <td>7708.0</td>\n",
       "    </tr>\n",
       "    <tr>\n",
       "      <td>1</td>\n",
       "      <td>Layup</td>\n",
       "      <td>0.565093</td>\n",
       "      <td>4532</td>\n",
       "      <td>2561.0</td>\n",
       "    </tr>\n",
       "    <tr>\n",
       "      <td>2</td>\n",
       "      <td>Dunk</td>\n",
       "      <td>0.928030</td>\n",
       "      <td>1056</td>\n",
       "      <td>980.0</td>\n",
       "    </tr>\n",
       "    <tr>\n",
       "      <td>3</td>\n",
       "      <td>Tip Shot</td>\n",
       "      <td>0.348684</td>\n",
       "      <td>152</td>\n",
       "      <td>53.0</td>\n",
       "    </tr>\n",
       "    <tr>\n",
       "      <td>4</td>\n",
       "      <td>Hook Shot</td>\n",
       "      <td>0.535433</td>\n",
       "      <td>127</td>\n",
       "      <td>68.0</td>\n",
       "    </tr>\n",
       "    <tr>\n",
       "      <td>5</td>\n",
       "      <td>Bank Shot</td>\n",
       "      <td>0.791667</td>\n",
       "      <td>120</td>\n",
       "      <td>95.0</td>\n",
       "    </tr>\n",
       "  </tbody>\n",
       "</table>\n",
       "</div>"
      ],
      "text/plain": [
       "  combined_shot_type      mean  count     sum\n",
       "0          Jump Shot  0.391071  19710  7708.0\n",
       "1              Layup  0.565093   4532  2561.0\n",
       "2               Dunk  0.928030   1056   980.0\n",
       "3           Tip Shot  0.348684    152    53.0\n",
       "4          Hook Shot  0.535433    127    68.0\n",
       "5          Bank Shot  0.791667    120    95.0"
      ]
     },
     "execution_count": 21,
     "metadata": {},
     "output_type": "execute_result"
    }
   ],
   "source": [
    "# Mean is the shooting percentage\n",
    "# Count is the number of shot that Kobe took during his career\n",
    "# Sum is the number of shot that Kobe made\n",
    "\n",
    "shot_stat = train_df.groupby(\"combined_shot_type\")[\"shot_made_flag\"].agg([\"mean\",\"count\",\"sum\"]).sort_values(ascending=False, by=\"count\").reset_index()\n",
    "shot_stat # dataframe"
   ]
  },
  {
   "cell_type": "code",
   "execution_count": 22,
   "metadata": {},
   "outputs": [
    {
     "data": {
      "text/html": [
       "<div>\n",
       "<style scoped>\n",
       "    .dataframe tbody tr th:only-of-type {\n",
       "        vertical-align: middle;\n",
       "    }\n",
       "\n",
       "    .dataframe tbody tr th {\n",
       "        vertical-align: top;\n",
       "    }\n",
       "\n",
       "    .dataframe thead th {\n",
       "        text-align: right;\n",
       "    }\n",
       "</style>\n",
       "<table border=\"1\" class=\"dataframe\">\n",
       "  <thead>\n",
       "    <tr style=\"text-align: right;\">\n",
       "      <th></th>\n",
       "      <th>combined_shot_type</th>\n",
       "      <th>Shooting Percentage</th>\n",
       "      <th>Shot Taken</th>\n",
       "      <th>Shot Made</th>\n",
       "    </tr>\n",
       "  </thead>\n",
       "  <tbody>\n",
       "    <tr>\n",
       "      <td>0</td>\n",
       "      <td>Jump Shot</td>\n",
       "      <td>0.391071</td>\n",
       "      <td>19710</td>\n",
       "      <td>7708.0</td>\n",
       "    </tr>\n",
       "    <tr>\n",
       "      <td>1</td>\n",
       "      <td>Layup</td>\n",
       "      <td>0.565093</td>\n",
       "      <td>4532</td>\n",
       "      <td>2561.0</td>\n",
       "    </tr>\n",
       "    <tr>\n",
       "      <td>2</td>\n",
       "      <td>Dunk</td>\n",
       "      <td>0.928030</td>\n",
       "      <td>1056</td>\n",
       "      <td>980.0</td>\n",
       "    </tr>\n",
       "    <tr>\n",
       "      <td>3</td>\n",
       "      <td>Tip Shot</td>\n",
       "      <td>0.348684</td>\n",
       "      <td>152</td>\n",
       "      <td>53.0</td>\n",
       "    </tr>\n",
       "    <tr>\n",
       "      <td>4</td>\n",
       "      <td>Hook Shot</td>\n",
       "      <td>0.535433</td>\n",
       "      <td>127</td>\n",
       "      <td>68.0</td>\n",
       "    </tr>\n",
       "    <tr>\n",
       "      <td>5</td>\n",
       "      <td>Bank Shot</td>\n",
       "      <td>0.791667</td>\n",
       "      <td>120</td>\n",
       "      <td>95.0</td>\n",
       "    </tr>\n",
       "  </tbody>\n",
       "</table>\n",
       "</div>"
      ],
      "text/plain": [
       "  combined_shot_type  Shooting Percentage  Shot Taken  Shot Made\n",
       "0          Jump Shot             0.391071       19710     7708.0\n",
       "1              Layup             0.565093        4532     2561.0\n",
       "2               Dunk             0.928030        1056      980.0\n",
       "3           Tip Shot             0.348684         152       53.0\n",
       "4          Hook Shot             0.535433         127       68.0\n",
       "5          Bank Shot             0.791667         120       95.0"
      ]
     },
     "execution_count": 22,
     "metadata": {},
     "output_type": "execute_result"
    }
   ],
   "source": [
    "# Rename the Shot stat columns for easier understanding\n",
    "shot_stat = shot_stat.rename(columns = {\"mean\": \"Shooting Percentage\", \"count\" : \"Shot Taken\", \"sum\": \"Shot Made\"})\n",
    "shot_stat"
   ]
  },
  {
   "cell_type": "code",
   "execution_count": 23,
   "metadata": {},
   "outputs": [
    {
     "data": {
      "text/plain": [
       "([0, 1, 2, 3, 4, 5], <a list of 6 Text xticklabel objects>)"
      ]
     },
     "execution_count": 23,
     "metadata": {},
     "output_type": "execute_result"
    },
    {
     "data": {
      "image/png": "[encoded data removed]",
      "text/plain": [
       "<Figure size 864x576 with 2 Axes>"
      ]
     },
     "metadata": {
      "needs_background": "light"
     },
     "output_type": "display_data"
    }
   ],
   "source": [
    "# place the graph of shot taken and shot made together\n",
    "plt.figure(figsize=(12, 8))\n",
    "plt.title(\"Shooting Percentage for Each Shot Type\")\n",
    "\n",
    "sns.set_color_codes(\"pastel\")\n",
    "v5 = sns.barplot(x=\"combined_shot_type\", y=\"Shot Taken\", data=shot_stat, order=shot_stat[\"combined_shot_type\"], color=\"b\")\n",
    "\n",
    "sns.set_color_codes(\"muted\")\n",
    "v6 = sns.barplot(x=\"combined_shot_type\", y=\"Shot Made\", data=shot_stat, order=shot_stat[\"combined_shot_type\"], color=\"r\")\n",
    "\n",
    "v7 = v6.twinx() # set a different y-axix by using twinx()\n",
    "v7 = sns.lineplot(x=\"combined_shot_type\", y=\"Shooting Percentage\", data=shot_stat, sort=False, color=\"g\")\n",
    "\n",
    "plt.xticks(rotation=90)"
   ]
  },
  {
   "cell_type": "markdown",
   "metadata": {},
   "source": [
    "Not sure if line graph to shows the percentage is the best choice.\n",
    "But, it seems like tip shot and jump shot had relatively lower shooting percentage, when dunk shot and bank shot's percentage are quite high."
   ]
  },
  {
   "cell_type": "code",
   "execution_count": 24,
   "metadata": {},
   "outputs": [],
   "source": [
    "# One-hot encoding combined_shot_type\n",
    "tr_cshot = pd.get_dummies(train_df[\"combined_shot_type\"])\n",
    "te_cshot = pd.get_dummies(test_df[\"combined_shot_type\"])"
   ]
  },
  {
   "cell_type": "code",
   "execution_count": 25,
   "metadata": {},
   "outputs": [],
   "source": [
    "# joined the column to the training and testing dateset and then subsequently dropped it.\n",
    "train_df = train_df.join(tr_cshot).drop(columns = [\"combined_shot_type\", \"action_type\"])\n",
    "test_df = test_df.join(te_cshot).drop(columns = [\"combined_shot_type\", \"action_type\"])"
   ]
  },
  {
   "cell_type": "code",
   "execution_count": 26,
   "metadata": {},
   "outputs": [],
   "source": [
    "# One-hot encoding shot_type\n",
    "tr_shot = pd.get_dummies(train_df[\"shot_type\"])\n",
    "te_shot = pd.get_dummies(test_df[\"shot_type\"])"
   ]
  },
  {
   "cell_type": "code",
   "execution_count": 27,
   "metadata": {},
   "outputs": [],
   "source": [
    "# joined the column to the training and testing dateset and then subsequently dropped it.\n",
    "train_df = train_df.join(tr_shot).drop(columns = [\"shot_type\"])\n",
    "test_df = test_df.join(te_shot).drop(columns = [\"shot_type\"])"
   ]
  },
  {
   "cell_type": "code",
   "execution_count": 28,
   "metadata": {},
   "outputs": [
    {
     "data": {
      "text/plain": [
       "Index(['game_event_id', 'game_id', 'lat', 'loc_x', 'loc_y', 'lon',\n",
       "       'minutes_remaining', 'period', 'playoffs', 'season',\n",
       "       'seconds_remaining', 'shot_distance', 'shot_made_flag',\n",
       "       'shot_zone_area', 'shot_zone_basic', 'shot_zone_range', 'team_id',\n",
       "       'team_name', 'game_date', 'matchup', 'opponent', 'shot_id', 'Bank Shot',\n",
       "       'Dunk', 'Hook Shot', 'Jump Shot', 'Layup', 'Tip Shot', '2PT Field Goal',\n",
       "       '3PT Field Goal'],\n",
       "      dtype='object')"
      ]
     },
     "execution_count": 28,
     "metadata": {},
     "output_type": "execute_result"
    }
   ],
   "source": [
    "train_df.columns"
   ]
  },
  {
   "cell_type": "markdown",
   "metadata": {},
   "source": [
    "## Shot Distance/ Shot Zone Range/ Shot Zone Basic/ Shot Zone Area"
   ]
  },
  {
   "cell_type": "code",
   "execution_count": 29,
   "metadata": {},
   "outputs": [
    {
     "data": {
      "text/html": [
       "<div>\n",
       "<style scoped>\n",
       "    .dataframe tbody tr th:only-of-type {\n",
       "        vertical-align: middle;\n",
       "    }\n",
       "\n",
       "    .dataframe tbody tr th {\n",
       "        vertical-align: top;\n",
       "    }\n",
       "\n",
       "    .dataframe thead th {\n",
       "        text-align: right;\n",
       "    }\n",
       "</style>\n",
       "<table border=\"1\" class=\"dataframe\">\n",
       "  <thead>\n",
       "    <tr style=\"text-align: right;\">\n",
       "      <th></th>\n",
       "      <th>shot_distance</th>\n",
       "      <th>mean</th>\n",
       "      <th>count</th>\n",
       "      <th>sum</th>\n",
       "    </tr>\n",
       "  </thead>\n",
       "  <tbody>\n",
       "    <tr>\n",
       "      <td>0</td>\n",
       "      <td>1</td>\n",
       "      <td>0.660920</td>\n",
       "      <td>522</td>\n",
       "      <td>345.0</td>\n",
       "    </tr>\n",
       "    <tr>\n",
       "      <td>1</td>\n",
       "      <td>0</td>\n",
       "      <td>0.634766</td>\n",
       "      <td>4608</td>\n",
       "      <td>2925.0</td>\n",
       "    </tr>\n",
       "    <tr>\n",
       "      <td>2</td>\n",
       "      <td>2</td>\n",
       "      <td>0.532091</td>\n",
       "      <td>483</td>\n",
       "      <td>257.0</td>\n",
       "    </tr>\n",
       "    <tr>\n",
       "      <td>3</td>\n",
       "      <td>8</td>\n",
       "      <td>0.477113</td>\n",
       "      <td>568</td>\n",
       "      <td>271.0</td>\n",
       "    </tr>\n",
       "    <tr>\n",
       "      <td>4</td>\n",
       "      <td>4</td>\n",
       "      <td>0.473186</td>\n",
       "      <td>317</td>\n",
       "      <td>150.0</td>\n",
       "    </tr>\n",
       "    <tr>\n",
       "      <td>...</td>\n",
       "      <td>...</td>\n",
       "      <td>...</td>\n",
       "      <td>...</td>\n",
       "      <td>...</td>\n",
       "    </tr>\n",
       "    <tr>\n",
       "      <td>69</td>\n",
       "      <td>50</td>\n",
       "      <td>0.000000</td>\n",
       "      <td>3</td>\n",
       "      <td>0.0</td>\n",
       "    </tr>\n",
       "    <tr>\n",
       "      <td>70</td>\n",
       "      <td>51</td>\n",
       "      <td>0.000000</td>\n",
       "      <td>2</td>\n",
       "      <td>0.0</td>\n",
       "    </tr>\n",
       "    <tr>\n",
       "      <td>71</td>\n",
       "      <td>52</td>\n",
       "      <td>0.000000</td>\n",
       "      <td>2</td>\n",
       "      <td>0.0</td>\n",
       "    </tr>\n",
       "    <tr>\n",
       "      <td>72</td>\n",
       "      <td>53</td>\n",
       "      <td>0.000000</td>\n",
       "      <td>1</td>\n",
       "      <td>0.0</td>\n",
       "    </tr>\n",
       "    <tr>\n",
       "      <td>73</td>\n",
       "      <td>79</td>\n",
       "      <td>0.000000</td>\n",
       "      <td>1</td>\n",
       "      <td>0.0</td>\n",
       "    </tr>\n",
       "  </tbody>\n",
       "</table>\n",
       "<p>74 rows × 4 columns</p>\n",
       "</div>"
      ],
      "text/plain": [
       "    shot_distance      mean  count     sum\n",
       "0               1  0.660920    522   345.0\n",
       "1               0  0.634766   4608  2925.0\n",
       "2               2  0.532091    483   257.0\n",
       "3               8  0.477113    568   271.0\n",
       "4               4  0.473186    317   150.0\n",
       "..            ...       ...    ...     ...\n",
       "69             50  0.000000      3     0.0\n",
       "70             51  0.000000      2     0.0\n",
       "71             52  0.000000      2     0.0\n",
       "72             53  0.000000      1     0.0\n",
       "73             79  0.000000      1     0.0\n",
       "\n",
       "[74 rows x 4 columns]"
      ]
     },
     "execution_count": 29,
     "metadata": {},
     "output_type": "execute_result"
    }
   ],
   "source": [
    "# group by the shot number by shot range zone\n",
    "distance_stat = train_df.groupby(\"shot_distance\")[\"shot_made_flag\"].agg([\"mean\",\"count\",\"sum\"]).sort_values(ascending=False, by=\"mean\").reset_index()\n",
    "distance_stat # dataframe"
   ]
  },
  {
   "cell_type": "code",
   "execution_count": 30,
   "metadata": {},
   "outputs": [
    {
     "data": {
      "text/html": [
       "<div>\n",
       "<style scoped>\n",
       "    .dataframe tbody tr th:only-of-type {\n",
       "        vertical-align: middle;\n",
       "    }\n",
       "\n",
       "    .dataframe tbody tr th {\n",
       "        vertical-align: top;\n",
       "    }\n",
       "\n",
       "    .dataframe thead th {\n",
       "        text-align: right;\n",
       "    }\n",
       "</style>\n",
       "<table border=\"1\" class=\"dataframe\">\n",
       "  <thead>\n",
       "    <tr style=\"text-align: right;\">\n",
       "      <th></th>\n",
       "      <th>shot_zone_range</th>\n",
       "      <th>mean</th>\n",
       "      <th>count</th>\n",
       "      <th>sum</th>\n",
       "    </tr>\n",
       "  </thead>\n",
       "  <tbody>\n",
       "    <tr>\n",
       "      <td>0</td>\n",
       "      <td>Less Than 8 ft.</td>\n",
       "      <td>0.573120</td>\n",
       "      <td>7857</td>\n",
       "      <td>4503.0</td>\n",
       "    </tr>\n",
       "    <tr>\n",
       "      <td>1</td>\n",
       "      <td>8-16 ft.</td>\n",
       "      <td>0.435484</td>\n",
       "      <td>5580</td>\n",
       "      <td>2430.0</td>\n",
       "    </tr>\n",
       "    <tr>\n",
       "      <td>2</td>\n",
       "      <td>16-24 ft.</td>\n",
       "      <td>0.401766</td>\n",
       "      <td>6907</td>\n",
       "      <td>2775.0</td>\n",
       "    </tr>\n",
       "    <tr>\n",
       "      <td>3</td>\n",
       "      <td>24+ ft.</td>\n",
       "      <td>0.332513</td>\n",
       "      <td>5281</td>\n",
       "      <td>1756.0</td>\n",
       "    </tr>\n",
       "    <tr>\n",
       "      <td>4</td>\n",
       "      <td>Back Court Shot</td>\n",
       "      <td>0.013889</td>\n",
       "      <td>72</td>\n",
       "      <td>1.0</td>\n",
       "    </tr>\n",
       "  </tbody>\n",
       "</table>\n",
       "</div>"
      ],
      "text/plain": [
       "   shot_zone_range      mean  count     sum\n",
       "0  Less Than 8 ft.  0.573120   7857  4503.0\n",
       "1         8-16 ft.  0.435484   5580  2430.0\n",
       "2        16-24 ft.  0.401766   6907  2775.0\n",
       "3          24+ ft.  0.332513   5281  1756.0\n",
       "4  Back Court Shot  0.013889     72     1.0"
      ]
     },
     "execution_count": 30,
     "metadata": {},
     "output_type": "execute_result"
    }
   ],
   "source": [
    "# group by the shot number by shot range zone\n",
    "zone_stat = train_df.groupby(\"shot_zone_range\")[\"shot_made_flag\"].agg([\"mean\",\"count\",\"sum\"]).sort_values(ascending=False, by=\"mean\").reset_index()\n",
    "zone_stat # dataframe"
   ]
  },
  {
   "cell_type": "code",
   "execution_count": 31,
   "metadata": {},
   "outputs": [
    {
     "data": {
      "text/html": [
       "<div>\n",
       "<style scoped>\n",
       "    .dataframe tbody tr th:only-of-type {\n",
       "        vertical-align: middle;\n",
       "    }\n",
       "\n",
       "    .dataframe tbody tr th {\n",
       "        vertical-align: top;\n",
       "    }\n",
       "\n",
       "    .dataframe thead th {\n",
       "        text-align: right;\n",
       "    }\n",
       "</style>\n",
       "<table border=\"1\" class=\"dataframe\">\n",
       "  <thead>\n",
       "    <tr style=\"text-align: right;\">\n",
       "      <th></th>\n",
       "      <th>shot_zone_basic</th>\n",
       "      <th>mean</th>\n",
       "      <th>count</th>\n",
       "      <th>sum</th>\n",
       "    </tr>\n",
       "  </thead>\n",
       "  <tbody>\n",
       "    <tr>\n",
       "      <td>0</td>\n",
       "      <td>Restricted Area</td>\n",
       "      <td>0.618004</td>\n",
       "      <td>5932</td>\n",
       "      <td>3666.0</td>\n",
       "    </tr>\n",
       "    <tr>\n",
       "      <td>1</td>\n",
       "      <td>In The Paint (Non-RA)</td>\n",
       "      <td>0.454381</td>\n",
       "      <td>3880</td>\n",
       "      <td>1763.0</td>\n",
       "    </tr>\n",
       "    <tr>\n",
       "      <td>2</td>\n",
       "      <td>Mid-Range</td>\n",
       "      <td>0.406286</td>\n",
       "      <td>10532</td>\n",
       "      <td>4279.0</td>\n",
       "    </tr>\n",
       "    <tr>\n",
       "      <td>3</td>\n",
       "      <td>Left Corner 3</td>\n",
       "      <td>0.370833</td>\n",
       "      <td>240</td>\n",
       "      <td>89.0</td>\n",
       "    </tr>\n",
       "    <tr>\n",
       "      <td>4</td>\n",
       "      <td>Right Corner 3</td>\n",
       "      <td>0.339339</td>\n",
       "      <td>333</td>\n",
       "      <td>113.0</td>\n",
       "    </tr>\n",
       "    <tr>\n",
       "      <td>5</td>\n",
       "      <td>Above the Break 3</td>\n",
       "      <td>0.329237</td>\n",
       "      <td>4720</td>\n",
       "      <td>1554.0</td>\n",
       "    </tr>\n",
       "    <tr>\n",
       "      <td>6</td>\n",
       "      <td>Backcourt</td>\n",
       "      <td>0.016667</td>\n",
       "      <td>60</td>\n",
       "      <td>1.0</td>\n",
       "    </tr>\n",
       "  </tbody>\n",
       "</table>\n",
       "</div>"
      ],
      "text/plain": [
       "         shot_zone_basic      mean  count     sum\n",
       "0        Restricted Area  0.618004   5932  3666.0\n",
       "1  In The Paint (Non-RA)  0.454381   3880  1763.0\n",
       "2              Mid-Range  0.406286  10532  4279.0\n",
       "3          Left Corner 3  0.370833    240    89.0\n",
       "4         Right Corner 3  0.339339    333   113.0\n",
       "5      Above the Break 3  0.329237   4720  1554.0\n",
       "6              Backcourt  0.016667     60     1.0"
      ]
     },
     "execution_count": 31,
     "metadata": {},
     "output_type": "execute_result"
    }
   ],
   "source": [
    "# group by the shot number by shot range basic\n",
    "bzone_stat = train_df.groupby(\"shot_zone_basic\")[\"shot_made_flag\"].agg([\"mean\",\"count\",\"sum\"]).sort_values(ascending=False, by=\"mean\").reset_index()\n",
    "bzone_stat # dataframe"
   ]
  },
  {
   "cell_type": "code",
   "execution_count": 32,
   "metadata": {},
   "outputs": [
    {
     "data": {
      "text/html": [
       "<div>\n",
       "<style scoped>\n",
       "    .dataframe tbody tr th:only-of-type {\n",
       "        vertical-align: middle;\n",
       "    }\n",
       "\n",
       "    .dataframe tbody tr th {\n",
       "        vertical-align: top;\n",
       "    }\n",
       "\n",
       "    .dataframe thead th {\n",
       "        text-align: right;\n",
       "    }\n",
       "</style>\n",
       "<table border=\"1\" class=\"dataframe\">\n",
       "  <thead>\n",
       "    <tr style=\"text-align: right;\">\n",
       "      <th></th>\n",
       "      <th>shot_zone_area</th>\n",
       "      <th>mean</th>\n",
       "      <th>count</th>\n",
       "      <th>sum</th>\n",
       "    </tr>\n",
       "  </thead>\n",
       "  <tbody>\n",
       "    <tr>\n",
       "      <td>0</td>\n",
       "      <td>Center(C)</td>\n",
       "      <td>0.525556</td>\n",
       "      <td>11289</td>\n",
       "      <td>5933.0</td>\n",
       "    </tr>\n",
       "    <tr>\n",
       "      <td>1</td>\n",
       "      <td>Right Side(R)</td>\n",
       "      <td>0.401658</td>\n",
       "      <td>3859</td>\n",
       "      <td>1550.0</td>\n",
       "    </tr>\n",
       "    <tr>\n",
       "      <td>2</td>\n",
       "      <td>Left Side(L)</td>\n",
       "      <td>0.396871</td>\n",
       "      <td>3132</td>\n",
       "      <td>1243.0</td>\n",
       "    </tr>\n",
       "    <tr>\n",
       "      <td>3</td>\n",
       "      <td>Right Side Center(RC)</td>\n",
       "      <td>0.382567</td>\n",
       "      <td>3981</td>\n",
       "      <td>1523.0</td>\n",
       "    </tr>\n",
       "    <tr>\n",
       "      <td>4</td>\n",
       "      <td>Left Side Center(LC)</td>\n",
       "      <td>0.361177</td>\n",
       "      <td>3364</td>\n",
       "      <td>1215.0</td>\n",
       "    </tr>\n",
       "    <tr>\n",
       "      <td>5</td>\n",
       "      <td>Back Court(BC)</td>\n",
       "      <td>0.013889</td>\n",
       "      <td>72</td>\n",
       "      <td>1.0</td>\n",
       "    </tr>\n",
       "  </tbody>\n",
       "</table>\n",
       "</div>"
      ],
      "text/plain": [
       "          shot_zone_area      mean  count     sum\n",
       "0              Center(C)  0.525556  11289  5933.0\n",
       "1          Right Side(R)  0.401658   3859  1550.0\n",
       "2           Left Side(L)  0.396871   3132  1243.0\n",
       "3  Right Side Center(RC)  0.382567   3981  1523.0\n",
       "4   Left Side Center(LC)  0.361177   3364  1215.0\n",
       "5         Back Court(BC)  0.013889     72     1.0"
      ]
     },
     "execution_count": 32,
     "metadata": {},
     "output_type": "execute_result"
    }
   ],
   "source": [
    "# group by the shot number by shot range area\n",
    "azone_stat = train_df.groupby(\"shot_zone_area\")[\"shot_made_flag\"].agg([\"mean\",\"count\",\"sum\"]).sort_values(ascending=False, by=\"mean\").reset_index()\n",
    "azone_stat # dataframe"
   ]
  },
  {
   "cell_type": "markdown",
   "metadata": {},
   "source": [
    "Interestingly, the count for Backcourt Shot was different for shot_zone_basic (shot_zone_range and shot_zone_area have the same number of back court shot).\n",
    "\n",
    "For the first attempt, maybe we can pair the shot_zone_area and shot_zone range, while temportaily ignored shot_zone_basic and shot_distance."
   ]
  },
  {
   "cell_type": "code",
   "execution_count": 33,
   "metadata": {},
   "outputs": [],
   "source": [
    "# One-hot encoding shot_zone_area and shot_zone_range and then drop the columns\n",
    "tr_range = pd.get_dummies(train_df[\"shot_zone_range\"])\n",
    "te_range = pd.get_dummies(test_df[\"shot_zone_range\"])\n",
    "\n",
    "tr_area = pd.get_dummies(train_df[\"shot_zone_area\"])\n",
    "te_area = pd.get_dummies(test_df[\"shot_zone_area\"])"
   ]
  },
  {
   "cell_type": "code",
   "execution_count": 34,
   "metadata": {},
   "outputs": [],
   "source": [
    "# joined the column to the training and testing dateset and then subsequently dropped them.\n",
    "train_df = train_df.join([tr_range, tr_area]).drop(columns = [\"shot_zone_range\", \"shot_zone_area\"])\n",
    "test_df = test_df.join([te_range, te_area]).drop(columns = [\"shot_zone_range\", \"shot_zone_area\"])"
   ]
  },
  {
   "cell_type": "code",
   "execution_count": 35,
   "metadata": {},
   "outputs": [
    {
     "data": {
      "text/plain": [
       "137"
      ]
     },
     "execution_count": 35,
     "metadata": {},
     "output_type": "execute_result"
    }
   ],
   "source": [
    "# check whether they are the same\n",
    "# 3-point line distance from the basket\t23.75 ft\n",
    "# 22 ft in corner[c]\n",
    "\n",
    "sum(train_df[\"3PT Field Goal\"] != train_df[\"24+ ft.\"])"
   ]
  },
  {
   "cell_type": "code",
   "execution_count": 36,
   "metadata": {},
   "outputs": [
    {
     "data": {
      "text/html": [
       "<div>\n",
       "<style scoped>\n",
       "    .dataframe tbody tr th:only-of-type {\n",
       "        vertical-align: middle;\n",
       "    }\n",
       "\n",
       "    .dataframe tbody tr th {\n",
       "        vertical-align: top;\n",
       "    }\n",
       "\n",
       "    .dataframe thead th {\n",
       "        text-align: right;\n",
       "    }\n",
       "</style>\n",
       "<table border=\"1\" class=\"dataframe\">\n",
       "  <thead>\n",
       "    <tr style=\"text-align: right;\">\n",
       "      <th></th>\n",
       "      <th>3PT Field Goal</th>\n",
       "      <th>24+ ft.</th>\n",
       "    </tr>\n",
       "  </thead>\n",
       "  <tbody>\n",
       "    <tr>\n",
       "      <td>3PT Field Goal</td>\n",
       "      <td>1.00000</td>\n",
       "      <td>0.98394</td>\n",
       "    </tr>\n",
       "    <tr>\n",
       "      <td>24+ ft.</td>\n",
       "      <td>0.98394</td>\n",
       "      <td>1.00000</td>\n",
       "    </tr>\n",
       "  </tbody>\n",
       "</table>\n",
       "</div>"
      ],
      "text/plain": [
       "                3PT Field Goal  24+ ft.\n",
       "3PT Field Goal         1.00000  0.98394\n",
       "24+ ft.                0.98394  1.00000"
      ]
     },
     "execution_count": 36,
     "metadata": {},
     "output_type": "execute_result"
    }
   ],
   "source": [
    "train_df[[\"3PT Field Goal\",\"24+ ft.\"]].corr()"
   ]
  },
  {
   "cell_type": "markdown",
   "metadata": {},
   "source": [
    "Although all 24+ ft are 3-pt, 3-pt can also be between 16-24 ft. We will need to keep both columns first although they maybe quite closely correlated to each other"
   ]
  },
  {
   "cell_type": "code",
   "execution_count": 37,
   "metadata": {},
   "outputs": [],
   "source": [
    "# drop shot_zone_basic and shot_distance first as we will use the other two columns\n",
    "train_df = train_df.drop(columns = [\"shot_zone_basic\", \"shot_distance\"])\n",
    "test_df = test_df.drop(columns = [\"shot_zone_basic\", \"shot_distance\"])"
   ]
  },
  {
   "cell_type": "code",
   "execution_count": 38,
   "metadata": {},
   "outputs": [
    {
     "data": {
      "text/plain": [
       "0"
      ]
     },
     "execution_count": 38,
     "metadata": {},
     "output_type": "execute_result"
    }
   ],
   "source": [
    "# Check if \"Back Court Shot\" and \"Back Court(BC)\" are duplicated columns\n",
    "# If yes, then drop one of them\n",
    "\n",
    "sum(train_df[\"Back Court Shot\"] != train_df[\"Back Court(BC)\"])"
   ]
  },
  {
   "cell_type": "code",
   "execution_count": 39,
   "metadata": {},
   "outputs": [],
   "source": [
    "# drop Back Court (BC) column as it is the same as Back Court Shot\n",
    "train_df = train_df.drop(columns = [\"Back Court(BC)\"])\n",
    "test_df = test_df.drop(columns = [\"Back Court(BC)\"])"
   ]
  },
  {
   "cell_type": "markdown",
   "metadata": {},
   "source": [
    "## Check what IDs ('game_event_id', 'game_id', \"team_id\", \"shot_id) mean and see if we keep them"
   ]
  },
  {
   "cell_type": "code",
   "execution_count": 40,
   "metadata": {},
   "outputs": [
    {
     "name": "stdout",
     "output_type": "stream",
     "text": [
      "[ 12  35  43 155 244 251 265 294 309   4  27  66  80  86 138 255 274 299\n",
      " 307 332 345 369 400 429 488 499 184 202 212 219 229 233 289 295 300 398\n",
      " 445 446   7  11 105 132 190 214 232 260 353  28  33  41  73 131 186 201\n",
      " 215 225 236 306 368 425   2  39  44  70  74  79  82 101 115 192 217 228\n",
      " 241 253 262 314 322 339 365 370 379 395  19  20 111 130 135 170 174 240\n",
      " 317 320 340 362 381 426 444 468 493  34  77  93 108 118 129 199 243 303\n",
      " 352 360 371 416   5  24  31 139 150 200 209 304 323 341 378 437 478 480\n",
      " 498  18  25 112 158 162 238 246 269 285 297 311 333 350 448 450  17  48\n",
      "  83 114 153 166 213 224 231 257 276 302 330 334 342 344 440 454  10  26\n",
      "  51  81  84  87 121 134 271 273 288 331   8  45  60 107 242 252 279 315\n",
      " 346 356 373 377 418  14  47  52  57 161 218 287 325 343  15  91 223 235\n",
      " 348 358 367 374 385 410 421  40  50 109 123 151 220 267 272 335  46  54\n",
      "  61  67  75  96 193 197 259 278 310 372 376 386 401 404 477  55  95 137\n",
      " 178 206 221 230 245 290 308 336 375 391  78 119 125 133 147 156 173 180\n",
      " 280 305 324 389 422 436 470  92 117 145 194 203 249 382 399 434 455 466\n",
      " 494 496 506 515 529  32  89 126 208 248 277 286 301  21 100 116 127 282\n",
      " 291 312 359  29  71 250 296 355 413 419 430 433 449 458 460 482 510 103\n",
      " 110 120 142 247 351 402 414 417 439 465 469  23  58  72  94  98 205 319\n",
      " 357 380 405 423 475 483 538 547 569 237 239 263 313 387 254 328 392  37\n",
      "  59 154 211 463   6  88 258 447  16  22 175 196 198 329 354 188 270 298\n",
      "  99 113 149 168 176 179 189 316 366 412 424 443  56 485 492 497 191 207\n",
      " 256 390  30 106 210 459 490 504 514 517  68  76 159 183 337 396  53 124\n",
      " 226 284 383 471 102 122 136 338 363  13 141 171 318 409  49  85 143 152\n",
      " 216 293 364 431 261 518 167  65  90 292 140 182 283 321  63 408 427 456\n",
      " 461   9 281 452 484 486 509 536 195 157 275 472 530 540 406 420 441 361\n",
      " 160 266 327 457 462 407  36 474 502 187 384 403 411  38  64 163 453 467\n",
      " 487 489 507 204 435 451 464 523 541 545 347 473 481  69 146 326 128 227\n",
      " 505 513 268  62   3 234 165 442 185 104 394 177 432 393 438 222 503 516\n",
      " 525 164 388  42 428 264 558 559 592 610 144 349 169 172  97 476 537 397\n",
      " 491 584 479 508 561 522 495 148 512 543 556 181 520 532 501 415 539 546\n",
      " 521 526 535 548 511 542 578 500 552 567 582 553 632 634 639 550 579 563\n",
      " 597 555 576 528 524 560 605 604 617 598 551 533 544 568 580 593 531 570\n",
      " 519 534 572 549 557 565 575 562 566 577 591 599 601 612 623 554 564 571\n",
      " 585 606 527 616 628 588 595 620 650 653 615 625 590 573 581 574 607 624\n",
      " 587 600 583 603 586 589]\n",
      "\n",
      "\n",
      "[20000012 20000019 20000047 ... 49900086 49900087 49900088]\n",
      "\n",
      "\n",
      "[1610612747]\n",
      "\n",
      "\n",
      "[    2     3     4 ... 30695 30696 30697]\n",
      "\n",
      "\n"
     ]
    }
   ],
   "source": [
    "print(train_df[\"game_event_id\"].unique())\n",
    "print(\"\\n\")\n",
    "print(train_df[\"game_id\"].unique())\n",
    "print(\"\\n\")\n",
    "print(train_df[\"team_id\"].unique())\n",
    "print(\"\\n\")\n",
    "print(train_df[\"shot_id\"].unique())\n",
    "print(\"\\n\")"
   ]
  },
  {
   "cell_type": "code",
   "execution_count": 41,
   "metadata": {},
   "outputs": [],
   "source": [
    "# drop All ID columns as they are meaningless\n",
    "train_df = train_df.drop(columns = ['game_event_id', 'game_id', \"team_id\", \"shot_id\"])\n",
    "test_df = test_df.drop(columns = ['game_event_id', 'game_id', \"team_id\", \"shot_id\"])"
   ]
  },
  {
   "cell_type": "code",
   "execution_count": 42,
   "metadata": {},
   "outputs": [
    {
     "data": {
      "text/plain": [
       "Index(['lat', 'loc_x', 'loc_y', 'lon', 'minutes_remaining', 'period',\n",
       "       'playoffs', 'season', 'seconds_remaining', 'shot_made_flag',\n",
       "       'team_name', 'game_date', 'matchup', 'opponent', 'Bank Shot', 'Dunk',\n",
       "       'Hook Shot', 'Jump Shot', 'Layup', 'Tip Shot', '2PT Field Goal',\n",
       "       '3PT Field Goal', '16-24 ft.', '24+ ft.', '8-16 ft.', 'Back Court Shot',\n",
       "       'Less Than 8 ft.', 'Center(C)', 'Left Side Center(LC)', 'Left Side(L)',\n",
       "       'Right Side Center(RC)', 'Right Side(R)'],\n",
       "      dtype='object')"
      ]
     },
     "execution_count": 42,
     "metadata": {},
     "output_type": "execute_result"
    }
   ],
   "source": [
    "train_df.columns"
   ]
  },
  {
   "cell_type": "markdown",
   "metadata": {},
   "source": [
    "## Team Name/ Matchup/ Opponent"
   ]
  },
  {
   "cell_type": "code",
   "execution_count": 43,
   "metadata": {},
   "outputs": [],
   "source": [
    "train_df[\"team_name\"].unique()\n",
    "# only show LA Lakers so we can drop it\n",
    "\n",
    "train_df = train_df.drop(columns = [\"team_name\"])\n",
    "test_df = test_df.drop(columns = [\"team_name\"])"
   ]
  },
  {
   "cell_type": "code",
   "execution_count": 44,
   "metadata": {},
   "outputs": [
    {
     "data": {
      "text/plain": [
       "LAL @ SAS      853\n",
       "LAL vs. SAS    765\n",
       "LAL @ PHX      751\n",
       "LAL @ SAC      751\n",
       "LAL vs. HOU    722\n",
       "              ... \n",
       "LAL @ PHO       29\n",
       "LAL vs. NOP     21\n",
       "LAL vs. SAN     20\n",
       "LAL @ UTH       15\n",
       "LAL vs. BKN     13\n",
       "Name: matchup, Length: 74, dtype: int64"
      ]
     },
     "execution_count": 44,
     "metadata": {},
     "output_type": "execute_result"
    }
   ],
   "source": [
    "# The valuable information we can try to extract is whether Lakers is playing at home or away\n",
    "train_df[\"matchup\"].value_counts()"
   ]
  },
  {
   "cell_type": "code",
   "execution_count": 45,
   "metadata": {},
   "outputs": [],
   "source": [
    "def home_away(x):\n",
    "    if \"@\" in x:\n",
    "        return (\"Away Game\")\n",
    "    else:\n",
    "        return (\"Home Game\")"
   ]
  },
  {
   "cell_type": "code",
   "execution_count": 46,
   "metadata": {},
   "outputs": [
    {
     "data": {
      "text/plain": [
       "1        Away Game\n",
       "2        Away Game\n",
       "3        Away Game\n",
       "4        Away Game\n",
       "5        Away Game\n",
       "           ...    \n",
       "30691    Home Game\n",
       "30692    Home Game\n",
       "30694    Home Game\n",
       "30695    Home Game\n",
       "30696    Home Game\n",
       "Name: matchup, Length: 25697, dtype: object"
      ]
     },
     "execution_count": 46,
     "metadata": {},
     "output_type": "execute_result"
    }
   ],
   "source": [
    "train_df[\"matchup\"].apply(home_away)"
   ]
  },
  {
   "cell_type": "code",
   "execution_count": 47,
   "metadata": {},
   "outputs": [],
   "source": [
    "train_df[\"Home_Away\"] = train_df[\"matchup\"].apply(home_away)\n",
    "test_df[\"Home_Away\"] = test_df[\"matchup\"].apply(home_away)"
   ]
  },
  {
   "cell_type": "code",
   "execution_count": 48,
   "metadata": {},
   "outputs": [
    {
     "data": {
      "text/html": [
       "<div>\n",
       "<style scoped>\n",
       "    .dataframe tbody tr th:only-of-type {\n",
       "        vertical-align: middle;\n",
       "    }\n",
       "\n",
       "    .dataframe tbody tr th {\n",
       "        vertical-align: top;\n",
       "    }\n",
       "\n",
       "    .dataframe thead th {\n",
       "        text-align: right;\n",
       "    }\n",
       "</style>\n",
       "<table border=\"1\" class=\"dataframe\">\n",
       "  <thead>\n",
       "    <tr style=\"text-align: right;\">\n",
       "      <th></th>\n",
       "      <th>Home_Away</th>\n",
       "      <th>mean</th>\n",
       "      <th>count</th>\n",
       "      <th>sum</th>\n",
       "    </tr>\n",
       "  </thead>\n",
       "  <tbody>\n",
       "    <tr>\n",
       "      <td>0</td>\n",
       "      <td>Home Game</td>\n",
       "      <td>0.456468</td>\n",
       "      <td>12485</td>\n",
       "      <td>5699.0</td>\n",
       "    </tr>\n",
       "    <tr>\n",
       "      <td>1</td>\n",
       "      <td>Away Game</td>\n",
       "      <td>0.436421</td>\n",
       "      <td>13212</td>\n",
       "      <td>5766.0</td>\n",
       "    </tr>\n",
       "  </tbody>\n",
       "</table>\n",
       "</div>"
      ],
      "text/plain": [
       "   Home_Away      mean  count     sum\n",
       "0  Home Game  0.456468  12485  5699.0\n",
       "1  Away Game  0.436421  13212  5766.0"
      ]
     },
     "execution_count": 48,
     "metadata": {},
     "output_type": "execute_result"
    }
   ],
   "source": [
    "# let's examine the new column \"Home Away\"\n",
    "# group by the shot number by home away\n",
    "H_A_stat = train_df.groupby(\"Home_Away\")[\"shot_made_flag\"].agg([\"mean\",\"count\",\"sum\"]).sort_values(ascending=False, by=\"mean\").reset_index()\n",
    "H_A_stat # dataframe"
   ]
  },
  {
   "cell_type": "markdown",
   "metadata": {},
   "source": [
    "Kobe's field goal percentage is slightly better at Home but not by a huge margin. <br>\n",
    "Kobe took 1,000 more shots away from Staples Centre"
   ]
  },
  {
   "cell_type": "code",
   "execution_count": 49,
   "metadata": {},
   "outputs": [],
   "source": [
    "# One-hot encoding Home_Away and then drop the columns\n",
    "tr_HA = pd.get_dummies(train_df[\"Home_Away\"])\n",
    "te_HA = pd.get_dummies(test_df[\"Home_Away\"])"
   ]
  },
  {
   "cell_type": "code",
   "execution_count": 50,
   "metadata": {},
   "outputs": [],
   "source": [
    "# joined the column to the training and testing dateset and then subsequently dropped them.\n",
    "train_df = train_df.join([tr_HA]).drop(columns = [\"Home_Away\", \"matchup\"])\n",
    "test_df = test_df.join([te_HA]).drop(columns = [\"Home_Away\", \"matchup\"])"
   ]
  },
  {
   "cell_type": "code",
   "execution_count": 51,
   "metadata": {},
   "outputs": [
    {
     "data": {
      "text/plain": [
       "Index(['lat', 'loc_x', 'loc_y', 'lon', 'minutes_remaining', 'period',\n",
       "       'playoffs', 'season', 'seconds_remaining', 'shot_made_flag',\n",
       "       'game_date', 'opponent', 'Bank Shot', 'Dunk', 'Hook Shot', 'Jump Shot',\n",
       "       'Layup', 'Tip Shot', '2PT Field Goal', '3PT Field Goal', '16-24 ft.',\n",
       "       '24+ ft.', '8-16 ft.', 'Back Court Shot', 'Less Than 8 ft.',\n",
       "       'Center(C)', 'Left Side Center(LC)', 'Left Side(L)',\n",
       "       'Right Side Center(RC)', 'Right Side(R)', 'Away Game', 'Home Game'],\n",
       "      dtype='object')"
      ]
     },
     "execution_count": 51,
     "metadata": {},
     "output_type": "execute_result"
    }
   ],
   "source": [
    "train_df.columns"
   ]
  },
  {
   "cell_type": "code",
   "execution_count": 52,
   "metadata": {},
   "outputs": [
    {
     "data": {
      "text/plain": [
       "SAS    1638\n",
       "PHX    1535\n",
       "HOU    1399\n",
       "SAC    1397\n",
       "DEN    1352\n",
       "POR    1292\n",
       "UTA    1238\n",
       "MIN    1219\n",
       "GSW    1143\n",
       "LAC    1074\n",
       "DAL    1033\n",
       "MEM     871\n",
       "BOS     783\n",
       "SEA     694\n",
       "IND     626\n",
       "ORL     604\n",
       "PHI     603\n",
       "DET     587\n",
       "NYK     566\n",
       "OKC     561\n",
       "TOR     556\n",
       "MIA     517\n",
       "CHI     516\n",
       "CLE     514\n",
       "MIL     507\n",
       "WAS     501\n",
       "CHA     500\n",
       "NOH     475\n",
       "ATL     438\n",
       "NJN     422\n",
       "NOP     287\n",
       "VAN     204\n",
       "BKN      45\n",
       "Name: opponent, dtype: int64"
      ]
     },
     "execution_count": 52,
     "metadata": {},
     "output_type": "execute_result"
    }
   ],
   "source": [
    "train_df[\"opponent\"].value_counts()"
   ]
  },
  {
   "cell_type": "code",
   "execution_count": 53,
   "metadata": {},
   "outputs": [
    {
     "data": {
      "text/html": [
       "<div>\n",
       "<style scoped>\n",
       "    .dataframe tbody tr th:only-of-type {\n",
       "        vertical-align: middle;\n",
       "    }\n",
       "\n",
       "    .dataframe tbody tr th {\n",
       "        vertical-align: top;\n",
       "    }\n",
       "\n",
       "    .dataframe thead th {\n",
       "        text-align: right;\n",
       "    }\n",
       "</style>\n",
       "<table border=\"1\" class=\"dataframe\">\n",
       "  <thead>\n",
       "    <tr style=\"text-align: right;\">\n",
       "      <th></th>\n",
       "      <th>opponent</th>\n",
       "      <th>mean</th>\n",
       "      <th>count</th>\n",
       "      <th>sum</th>\n",
       "    </tr>\n",
       "  </thead>\n",
       "  <tbody>\n",
       "    <tr>\n",
       "      <td>0</td>\n",
       "      <td>NYK</td>\n",
       "      <td>0.477032</td>\n",
       "      <td>566</td>\n",
       "      <td>270.0</td>\n",
       "    </tr>\n",
       "    <tr>\n",
       "      <td>1</td>\n",
       "      <td>VAN</td>\n",
       "      <td>0.470588</td>\n",
       "      <td>204</td>\n",
       "      <td>96.0</td>\n",
       "    </tr>\n",
       "    <tr>\n",
       "      <td>2</td>\n",
       "      <td>SAC</td>\n",
       "      <td>0.465283</td>\n",
       "      <td>1397</td>\n",
       "      <td>650.0</td>\n",
       "    </tr>\n",
       "    <tr>\n",
       "      <td>3</td>\n",
       "      <td>POR</td>\n",
       "      <td>0.465170</td>\n",
       "      <td>1292</td>\n",
       "      <td>601.0</td>\n",
       "    </tr>\n",
       "    <tr>\n",
       "      <td>4</td>\n",
       "      <td>GSW</td>\n",
       "      <td>0.464567</td>\n",
       "      <td>1143</td>\n",
       "      <td>531.0</td>\n",
       "    </tr>\n",
       "    <tr>\n",
       "      <td>5</td>\n",
       "      <td>PHX</td>\n",
       "      <td>0.464495</td>\n",
       "      <td>1535</td>\n",
       "      <td>713.0</td>\n",
       "    </tr>\n",
       "    <tr>\n",
       "      <td>6</td>\n",
       "      <td>TOR</td>\n",
       "      <td>0.464029</td>\n",
       "      <td>556</td>\n",
       "      <td>258.0</td>\n",
       "    </tr>\n",
       "    <tr>\n",
       "      <td>7</td>\n",
       "      <td>LAC</td>\n",
       "      <td>0.460894</td>\n",
       "      <td>1074</td>\n",
       "      <td>495.0</td>\n",
       "    </tr>\n",
       "    <tr>\n",
       "      <td>8</td>\n",
       "      <td>DEN</td>\n",
       "      <td>0.457840</td>\n",
       "      <td>1352</td>\n",
       "      <td>619.0</td>\n",
       "    </tr>\n",
       "    <tr>\n",
       "      <td>9</td>\n",
       "      <td>DAL</td>\n",
       "      <td>0.454017</td>\n",
       "      <td>1033</td>\n",
       "      <td>469.0</td>\n",
       "    </tr>\n",
       "    <tr>\n",
       "      <td>10</td>\n",
       "      <td>SEA</td>\n",
       "      <td>0.452450</td>\n",
       "      <td>694</td>\n",
       "      <td>314.0</td>\n",
       "    </tr>\n",
       "    <tr>\n",
       "      <td>11</td>\n",
       "      <td>ATL</td>\n",
       "      <td>0.452055</td>\n",
       "      <td>438</td>\n",
       "      <td>198.0</td>\n",
       "    </tr>\n",
       "    <tr>\n",
       "      <td>12</td>\n",
       "      <td>NOH</td>\n",
       "      <td>0.450526</td>\n",
       "      <td>475</td>\n",
       "      <td>214.0</td>\n",
       "    </tr>\n",
       "    <tr>\n",
       "      <td>13</td>\n",
       "      <td>MEM</td>\n",
       "      <td>0.450057</td>\n",
       "      <td>871</td>\n",
       "      <td>392.0</td>\n",
       "    </tr>\n",
       "    <tr>\n",
       "      <td>14</td>\n",
       "      <td>PHI</td>\n",
       "      <td>0.449420</td>\n",
       "      <td>603</td>\n",
       "      <td>271.0</td>\n",
       "    </tr>\n",
       "    <tr>\n",
       "      <td>15</td>\n",
       "      <td>MIN</td>\n",
       "      <td>0.444627</td>\n",
       "      <td>1219</td>\n",
       "      <td>542.0</td>\n",
       "    </tr>\n",
       "    <tr>\n",
       "      <td>16</td>\n",
       "      <td>UTA</td>\n",
       "      <td>0.444265</td>\n",
       "      <td>1238</td>\n",
       "      <td>550.0</td>\n",
       "    </tr>\n",
       "    <tr>\n",
       "      <td>17</td>\n",
       "      <td>DET</td>\n",
       "      <td>0.441227</td>\n",
       "      <td>587</td>\n",
       "      <td>259.0</td>\n",
       "    </tr>\n",
       "    <tr>\n",
       "      <td>18</td>\n",
       "      <td>CLE</td>\n",
       "      <td>0.439689</td>\n",
       "      <td>514</td>\n",
       "      <td>226.0</td>\n",
       "    </tr>\n",
       "    <tr>\n",
       "      <td>19</td>\n",
       "      <td>SAS</td>\n",
       "      <td>0.436508</td>\n",
       "      <td>1638</td>\n",
       "      <td>715.0</td>\n",
       "    </tr>\n",
       "    <tr>\n",
       "      <td>20</td>\n",
       "      <td>NJN</td>\n",
       "      <td>0.436019</td>\n",
       "      <td>422</td>\n",
       "      <td>184.0</td>\n",
       "    </tr>\n",
       "    <tr>\n",
       "      <td>21</td>\n",
       "      <td>CHA</td>\n",
       "      <td>0.436000</td>\n",
       "      <td>500</td>\n",
       "      <td>218.0</td>\n",
       "    </tr>\n",
       "    <tr>\n",
       "      <td>22</td>\n",
       "      <td>ORL</td>\n",
       "      <td>0.435430</td>\n",
       "      <td>604</td>\n",
       "      <td>263.0</td>\n",
       "    </tr>\n",
       "    <tr>\n",
       "      <td>23</td>\n",
       "      <td>HOU</td>\n",
       "      <td>0.434596</td>\n",
       "      <td>1399</td>\n",
       "      <td>608.0</td>\n",
       "    </tr>\n",
       "    <tr>\n",
       "      <td>24</td>\n",
       "      <td>CHI</td>\n",
       "      <td>0.430233</td>\n",
       "      <td>516</td>\n",
       "      <td>222.0</td>\n",
       "    </tr>\n",
       "    <tr>\n",
       "      <td>25</td>\n",
       "      <td>MIA</td>\n",
       "      <td>0.429400</td>\n",
       "      <td>517</td>\n",
       "      <td>222.0</td>\n",
       "    </tr>\n",
       "    <tr>\n",
       "      <td>26</td>\n",
       "      <td>WAS</td>\n",
       "      <td>0.427146</td>\n",
       "      <td>501</td>\n",
       "      <td>214.0</td>\n",
       "    </tr>\n",
       "    <tr>\n",
       "      <td>27</td>\n",
       "      <td>OKC</td>\n",
       "      <td>0.418895</td>\n",
       "      <td>561</td>\n",
       "      <td>235.0</td>\n",
       "    </tr>\n",
       "    <tr>\n",
       "      <td>28</td>\n",
       "      <td>BOS</td>\n",
       "      <td>0.411239</td>\n",
       "      <td>783</td>\n",
       "      <td>322.0</td>\n",
       "    </tr>\n",
       "    <tr>\n",
       "      <td>29</td>\n",
       "      <td>MIL</td>\n",
       "      <td>0.410256</td>\n",
       "      <td>507</td>\n",
       "      <td>208.0</td>\n",
       "    </tr>\n",
       "    <tr>\n",
       "      <td>30</td>\n",
       "      <td>NOP</td>\n",
       "      <td>0.407666</td>\n",
       "      <td>287</td>\n",
       "      <td>117.0</td>\n",
       "    </tr>\n",
       "    <tr>\n",
       "      <td>31</td>\n",
       "      <td>IND</td>\n",
       "      <td>0.400958</td>\n",
       "      <td>626</td>\n",
       "      <td>251.0</td>\n",
       "    </tr>\n",
       "    <tr>\n",
       "      <td>32</td>\n",
       "      <td>BKN</td>\n",
       "      <td>0.400000</td>\n",
       "      <td>45</td>\n",
       "      <td>18.0</td>\n",
       "    </tr>\n",
       "  </tbody>\n",
       "</table>\n",
       "</div>"
      ],
      "text/plain": [
       "   opponent      mean  count    sum\n",
       "0       NYK  0.477032    566  270.0\n",
       "1       VAN  0.470588    204   96.0\n",
       "2       SAC  0.465283   1397  650.0\n",
       "3       POR  0.465170   1292  601.0\n",
       "4       GSW  0.464567   1143  531.0\n",
       "5       PHX  0.464495   1535  713.0\n",
       "6       TOR  0.464029    556  258.0\n",
       "7       LAC  0.460894   1074  495.0\n",
       "8       DEN  0.457840   1352  619.0\n",
       "9       DAL  0.454017   1033  469.0\n",
       "10      SEA  0.452450    694  314.0\n",
       "11      ATL  0.452055    438  198.0\n",
       "12      NOH  0.450526    475  214.0\n",
       "13      MEM  0.450057    871  392.0\n",
       "14      PHI  0.449420    603  271.0\n",
       "15      MIN  0.444627   1219  542.0\n",
       "16      UTA  0.444265   1238  550.0\n",
       "17      DET  0.441227    587  259.0\n",
       "18      CLE  0.439689    514  226.0\n",
       "19      SAS  0.436508   1638  715.0\n",
       "20      NJN  0.436019    422  184.0\n",
       "21      CHA  0.436000    500  218.0\n",
       "22      ORL  0.435430    604  263.0\n",
       "23      HOU  0.434596   1399  608.0\n",
       "24      CHI  0.430233    516  222.0\n",
       "25      MIA  0.429400    517  222.0\n",
       "26      WAS  0.427146    501  214.0\n",
       "27      OKC  0.418895    561  235.0\n",
       "28      BOS  0.411239    783  322.0\n",
       "29      MIL  0.410256    507  208.0\n",
       "30      NOP  0.407666    287  117.0\n",
       "31      IND  0.400958    626  251.0\n",
       "32      BKN  0.400000     45   18.0"
      ]
     },
     "execution_count": 53,
     "metadata": {},
     "output_type": "execute_result"
    }
   ],
   "source": [
    "Opp_stat = train_df.groupby(\"opponent\")[\"shot_made_flag\"].agg([\"mean\",\"count\",\"sum\"]).sort_values(ascending=False, by=\"mean\").reset_index()\n",
    "Opp_stat # dataframe"
   ]
  },
  {
   "cell_type": "markdown",
   "metadata": {},
   "source": [
    "Before I groupby the data, I thought that Kobe may play worse againt certain team (e.g. SAS). However, it seems like the shooting percentage ranges from 40% to 47.7%. <br>\n",
    "There are certainly some disrepency between teams, but I am hestitant to one-hot encoding all the team into new columns as it will hugely increase the dimension of the dataset "
   ]
  },
  {
   "cell_type": "code",
   "execution_count": 54,
   "metadata": {},
   "outputs": [],
   "source": [
    "# drop the opponent column\n",
    "train_df = train_df.drop(columns = [\"opponent\"])\n",
    "test_df = test_df.drop(columns = [\"opponent\"])"
   ]
  },
  {
   "cell_type": "code",
   "execution_count": 55,
   "metadata": {},
   "outputs": [
    {
     "data": {
      "text/plain": [
       "Index(['lat', 'loc_x', 'loc_y', 'lon', 'minutes_remaining', 'period',\n",
       "       'playoffs', 'season', 'seconds_remaining', 'shot_made_flag',\n",
       "       'game_date', 'Bank Shot', 'Dunk', 'Hook Shot', 'Jump Shot', 'Layup',\n",
       "       'Tip Shot', '2PT Field Goal', '3PT Field Goal', '16-24 ft.', '24+ ft.',\n",
       "       '8-16 ft.', 'Back Court Shot', 'Less Than 8 ft.', 'Center(C)',\n",
       "       'Left Side Center(LC)', 'Left Side(L)', 'Right Side Center(RC)',\n",
       "       'Right Side(R)', 'Away Game', 'Home Game'],\n",
       "      dtype='object')"
      ]
     },
     "execution_count": 55,
     "metadata": {},
     "output_type": "execute_result"
    }
   ],
   "source": [
    "train_df.columns"
   ]
  },
  {
   "cell_type": "code",
   "execution_count": 56,
   "metadata": {},
   "outputs": [
    {
     "data": {
      "text/plain": [
       "2005-06    1924\n",
       "2002-03    1852\n",
       "2008-09    1851\n",
       "2007-08    1819\n",
       "2009-10    1772\n",
       "2001-02    1708\n",
       "2006-07    1579\n",
       "2000-01    1575\n",
       "2010-11    1521\n",
       "2011-12    1416\n",
       "2003-04    1371\n",
       "2012-13    1328\n",
       "1999-00    1312\n",
       "2004-05    1127\n",
       "2015-16     932\n",
       "1997-98     810\n",
       "1998-99     765\n",
       "2014-15     593\n",
       "1996-97     383\n",
       "2013-14      59\n",
       "Name: season, dtype: int64"
      ]
     },
     "execution_count": 56,
     "metadata": {},
     "output_type": "execute_result"
    }
   ],
   "source": [
    "train_df[\"season\"].value_counts()"
   ]
  },
  {
   "cell_type": "code",
   "execution_count": 57,
   "metadata": {},
   "outputs": [
    {
     "data": {
      "text/html": [
       "<div>\n",
       "<style scoped>\n",
       "    .dataframe tbody tr th:only-of-type {\n",
       "        vertical-align: middle;\n",
       "    }\n",
       "\n",
       "    .dataframe tbody tr th {\n",
       "        vertical-align: top;\n",
       "    }\n",
       "\n",
       "    .dataframe thead th {\n",
       "        text-align: right;\n",
       "    }\n",
       "</style>\n",
       "<table border=\"1\" class=\"dataframe\">\n",
       "  <thead>\n",
       "    <tr style=\"text-align: right;\">\n",
       "      <th></th>\n",
       "      <th>season</th>\n",
       "      <th>mean</th>\n",
       "      <th>count</th>\n",
       "      <th>sum</th>\n",
       "    </tr>\n",
       "  </thead>\n",
       "  <tbody>\n",
       "    <tr>\n",
       "      <td>0</td>\n",
       "      <td>2007-08</td>\n",
       "      <td>0.468389</td>\n",
       "      <td>1819</td>\n",
       "      <td>852.0</td>\n",
       "    </tr>\n",
       "    <tr>\n",
       "      <td>1</td>\n",
       "      <td>2008-09</td>\n",
       "      <td>0.467855</td>\n",
       "      <td>1851</td>\n",
       "      <td>866.0</td>\n",
       "    </tr>\n",
       "    <tr>\n",
       "      <td>2</td>\n",
       "      <td>2000-01</td>\n",
       "      <td>0.466667</td>\n",
       "      <td>1575</td>\n",
       "      <td>735.0</td>\n",
       "    </tr>\n",
       "    <tr>\n",
       "      <td>3</td>\n",
       "      <td>1999-00</td>\n",
       "      <td>0.460366</td>\n",
       "      <td>1312</td>\n",
       "      <td>604.0</td>\n",
       "    </tr>\n",
       "    <tr>\n",
       "      <td>4</td>\n",
       "      <td>1998-99</td>\n",
       "      <td>0.458824</td>\n",
       "      <td>765</td>\n",
       "      <td>351.0</td>\n",
       "    </tr>\n",
       "    <tr>\n",
       "      <td>5</td>\n",
       "      <td>2001-02</td>\n",
       "      <td>0.458431</td>\n",
       "      <td>1708</td>\n",
       "      <td>783.0</td>\n",
       "    </tr>\n",
       "    <tr>\n",
       "      <td>6</td>\n",
       "      <td>2006-07</td>\n",
       "      <td>0.457885</td>\n",
       "      <td>1579</td>\n",
       "      <td>723.0</td>\n",
       "    </tr>\n",
       "    <tr>\n",
       "      <td>7</td>\n",
       "      <td>2012-13</td>\n",
       "      <td>0.457831</td>\n",
       "      <td>1328</td>\n",
       "      <td>608.0</td>\n",
       "    </tr>\n",
       "    <tr>\n",
       "      <td>8</td>\n",
       "      <td>2005-06</td>\n",
       "      <td>0.453742</td>\n",
       "      <td>1924</td>\n",
       "      <td>873.0</td>\n",
       "    </tr>\n",
       "    <tr>\n",
       "      <td>9</td>\n",
       "      <td>2009-10</td>\n",
       "      <td>0.453725</td>\n",
       "      <td>1772</td>\n",
       "      <td>804.0</td>\n",
       "    </tr>\n",
       "    <tr>\n",
       "      <td>10</td>\n",
       "      <td>2010-11</td>\n",
       "      <td>0.446417</td>\n",
       "      <td>1521</td>\n",
       "      <td>679.0</td>\n",
       "    </tr>\n",
       "    <tr>\n",
       "      <td>11</td>\n",
       "      <td>2004-05</td>\n",
       "      <td>0.436557</td>\n",
       "      <td>1127</td>\n",
       "      <td>492.0</td>\n",
       "    </tr>\n",
       "    <tr>\n",
       "      <td>12</td>\n",
       "      <td>2002-03</td>\n",
       "      <td>0.436285</td>\n",
       "      <td>1852</td>\n",
       "      <td>808.0</td>\n",
       "    </tr>\n",
       "    <tr>\n",
       "      <td>13</td>\n",
       "      <td>2003-04</td>\n",
       "      <td>0.433260</td>\n",
       "      <td>1371</td>\n",
       "      <td>594.0</td>\n",
       "    </tr>\n",
       "    <tr>\n",
       "      <td>14</td>\n",
       "      <td>1997-98</td>\n",
       "      <td>0.430864</td>\n",
       "      <td>810</td>\n",
       "      <td>349.0</td>\n",
       "    </tr>\n",
       "    <tr>\n",
       "      <td>15</td>\n",
       "      <td>2011-12</td>\n",
       "      <td>0.425847</td>\n",
       "      <td>1416</td>\n",
       "      <td>603.0</td>\n",
       "    </tr>\n",
       "    <tr>\n",
       "      <td>16</td>\n",
       "      <td>1996-97</td>\n",
       "      <td>0.422977</td>\n",
       "      <td>383</td>\n",
       "      <td>162.0</td>\n",
       "    </tr>\n",
       "    <tr>\n",
       "      <td>17</td>\n",
       "      <td>2013-14</td>\n",
       "      <td>0.406780</td>\n",
       "      <td>59</td>\n",
       "      <td>24.0</td>\n",
       "    </tr>\n",
       "    <tr>\n",
       "      <td>18</td>\n",
       "      <td>2014-15</td>\n",
       "      <td>0.376054</td>\n",
       "      <td>593</td>\n",
       "      <td>223.0</td>\n",
       "    </tr>\n",
       "    <tr>\n",
       "      <td>19</td>\n",
       "      <td>2015-16</td>\n",
       "      <td>0.356223</td>\n",
       "      <td>932</td>\n",
       "      <td>332.0</td>\n",
       "    </tr>\n",
       "  </tbody>\n",
       "</table>\n",
       "</div>"
      ],
      "text/plain": [
       "     season      mean  count    sum\n",
       "0   2007-08  0.468389   1819  852.0\n",
       "1   2008-09  0.467855   1851  866.0\n",
       "2   2000-01  0.466667   1575  735.0\n",
       "3   1999-00  0.460366   1312  604.0\n",
       "4   1998-99  0.458824    765  351.0\n",
       "5   2001-02  0.458431   1708  783.0\n",
       "6   2006-07  0.457885   1579  723.0\n",
       "7   2012-13  0.457831   1328  608.0\n",
       "8   2005-06  0.453742   1924  873.0\n",
       "9   2009-10  0.453725   1772  804.0\n",
       "10  2010-11  0.446417   1521  679.0\n",
       "11  2004-05  0.436557   1127  492.0\n",
       "12  2002-03  0.436285   1852  808.0\n",
       "13  2003-04  0.433260   1371  594.0\n",
       "14  1997-98  0.430864    810  349.0\n",
       "15  2011-12  0.425847   1416  603.0\n",
       "16  1996-97  0.422977    383  162.0\n",
       "17  2013-14  0.406780     59   24.0\n",
       "18  2014-15  0.376054    593  223.0\n",
       "19  2015-16  0.356223    932  332.0"
      ]
     },
     "execution_count": 57,
     "metadata": {},
     "output_type": "execute_result"
    }
   ],
   "source": [
    "season_stat = train_df.groupby(\"season\")[\"shot_made_flag\"].agg([\"mean\",\"count\",\"sum\"]).sort_values(ascending=False, by=\"mean\").reset_index()\n",
    "season_stat # dataframe"
   ]
  },
  {
   "cell_type": "code",
   "execution_count": 58,
   "metadata": {},
   "outputs": [
    {
     "data": {
      "text/plain": [
       "([0, 1, 2, 3, 4, 5, 6, 7, 8, 9, 10, 11, 12, 13, 14, 15, 16, 17, 18, 19],\n",
       " <a list of 20 Text xticklabel objects>)"
      ]
     },
     "execution_count": 58,
     "metadata": {},
     "output_type": "execute_result"
    },
    {
     "data": {
      "image/png": "[encoded data removed]",
      "text/plain": [
       "<Figure size 864x576 with 1 Axes>"
      ]
     },
     "metadata": {
      "needs_background": "light"
     },
     "output_type": "display_data"
    }
   ],
   "source": [
    "# place the graph of shot taken and shot made together\n",
    "plt.figure(figsize=(12, 8))\n",
    "plt.title(\"Shooting Percentage for Each Season\")\n",
    "\n",
    "v10 = sns.lineplot(x=\"season\", y=\"mean\", data=season_stat, color=\"y\")\n",
    "plt.ylabel(\"Percentage\")\n",
    "\n",
    "plt.xticks(rotation=90)"
   ]
  },
  {
   "cell_type": "markdown",
   "metadata": {},
   "source": [
    "Let's try to interpret the graph with some domain knowledge. \n",
    "\n",
    "After Kobe entered the league in 1996, the rising shooting percentage can be understood as his development. It peaked at 2000-2001, which was the first season of the Lakers 3-peat.\n",
    "\n",
    "Then, the percentage started to decline as opponents were now foucsing on tightly guarding him together with Shaq. It hit the bottom during the season when they lost to the Pistons in the Final.\n",
    "\n",
    "It slightly rose after the Lakers traded Shaq and let Kobe Led the team. The percentage hit the plateau during 2008-2010 when the Lakers got to the Final for three consecutive years.\n",
    "\n",
    "It kept dropping due to Age, and hit the lowest during 2011 when they have the major overhaul of the Roster (i.e. addition of Dwight Howard and Steve Nash plus the retirement of Phil Jackson)\n",
    "\n",
    "After a rebound in 2012-2013, the percentage kept dropping due to Father time and the major Achilles injury in 2013 until his retirement."
   ]
  },
  {
   "cell_type": "code",
   "execution_count": 59,
   "metadata": {},
   "outputs": [],
   "source": [
    "# One-hot encoding Season and then drop the columns\n",
    "tr_Sea = pd.get_dummies(train_df[\"season\"])\n",
    "te_Sea = pd.get_dummies(test_df[\"season\"])"
   ]
  },
  {
   "cell_type": "code",
   "execution_count": 60,
   "metadata": {},
   "outputs": [],
   "source": [
    "# joined the column to the training and testing dateset and then subsequently dropped them.\n",
    "train_df = train_df.join([tr_Sea]).drop(columns = [\"season\"])\n",
    "test_df = test_df.join([te_Sea]).drop(columns = [\"season\"])"
   ]
  },
  {
   "cell_type": "markdown",
   "metadata": {},
   "source": [
    "## Playoff"
   ]
  },
  {
   "cell_type": "code",
   "execution_count": 61,
   "metadata": {},
   "outputs": [
    {
     "data": {
      "text/plain": [
       "0    21939\n",
       "1     3758\n",
       "Name: playoffs, dtype: int64"
      ]
     },
     "execution_count": 61,
     "metadata": {},
     "output_type": "execute_result"
    }
   ],
   "source": [
    "train_df[\"playoffs\"].value_counts()"
   ]
  },
  {
   "cell_type": "code",
   "execution_count": 62,
   "metadata": {},
   "outputs": [
    {
     "data": {
      "text/html": [
       "<div>\n",
       "<style scoped>\n",
       "    .dataframe tbody tr th:only-of-type {\n",
       "        vertical-align: middle;\n",
       "    }\n",
       "\n",
       "    .dataframe tbody tr th {\n",
       "        vertical-align: top;\n",
       "    }\n",
       "\n",
       "    .dataframe thead th {\n",
       "        text-align: right;\n",
       "    }\n",
       "</style>\n",
       "<table border=\"1\" class=\"dataframe\">\n",
       "  <thead>\n",
       "    <tr style=\"text-align: right;\">\n",
       "      <th></th>\n",
       "      <th>playoffs</th>\n",
       "      <th>mean</th>\n",
       "      <th>count</th>\n",
       "      <th>sum</th>\n",
       "    </tr>\n",
       "  </thead>\n",
       "  <tbody>\n",
       "    <tr>\n",
       "      <td>0</td>\n",
       "      <td>0</td>\n",
       "      <td>0.446420</td>\n",
       "      <td>21939</td>\n",
       "      <td>9794.0</td>\n",
       "    </tr>\n",
       "    <tr>\n",
       "      <td>1</td>\n",
       "      <td>1</td>\n",
       "      <td>0.444651</td>\n",
       "      <td>3758</td>\n",
       "      <td>1671.0</td>\n",
       "    </tr>\n",
       "  </tbody>\n",
       "</table>\n",
       "</div>"
      ],
      "text/plain": [
       "   playoffs      mean  count     sum\n",
       "0         0  0.446420  21939  9794.0\n",
       "1         1  0.444651   3758  1671.0"
      ]
     },
     "execution_count": 62,
     "metadata": {},
     "output_type": "execute_result"
    }
   ],
   "source": [
    "playoff_stat = train_df.groupby(\"playoffs\")[\"shot_made_flag\"].agg([\"mean\",\"count\",\"sum\"]).sort_values(ascending=False, by=\"mean\").reset_index()\n",
    "playoff_stat # dataframe"
   ]
  },
  {
   "cell_type": "markdown",
   "metadata": {},
   "source": [
    "No need to encode Playoff and also the percentage is similar between playoff and regular season."
   ]
  },
  {
   "cell_type": "code",
   "execution_count": 63,
   "metadata": {},
   "outputs": [
    {
     "data": {
      "text/plain": [
       "Index(['lat', 'loc_x', 'loc_y', 'lon', 'minutes_remaining', 'period',\n",
       "       'playoffs', 'seconds_remaining', 'shot_made_flag', 'game_date',\n",
       "       'Bank Shot', 'Dunk', 'Hook Shot', 'Jump Shot', 'Layup', 'Tip Shot',\n",
       "       '2PT Field Goal', '3PT Field Goal', '16-24 ft.', '24+ ft.', '8-16 ft.',\n",
       "       'Back Court Shot', 'Less Than 8 ft.', 'Center(C)',\n",
       "       'Left Side Center(LC)', 'Left Side(L)', 'Right Side Center(RC)',\n",
       "       'Right Side(R)', 'Away Game', 'Home Game', '1996-97', '1997-98',\n",
       "       '1998-99', '1999-00', '2000-01', '2001-02', '2002-03', '2003-04',\n",
       "       '2004-05', '2005-06', '2006-07', '2007-08', '2008-09', '2009-10',\n",
       "       '2010-11', '2011-12', '2012-13', '2013-14', '2014-15', '2015-16'],\n",
       "      dtype='object')"
      ]
     },
     "execution_count": 63,
     "metadata": {},
     "output_type": "execute_result"
    }
   ],
   "source": [
    "train_df.columns"
   ]
  },
  {
   "cell_type": "code",
   "execution_count": 64,
   "metadata": {},
   "outputs": [
    {
     "data": {
      "text/html": [
       "<div>\n",
       "<style scoped>\n",
       "    .dataframe tbody tr th:only-of-type {\n",
       "        vertical-align: middle;\n",
       "    }\n",
       "\n",
       "    .dataframe tbody tr th {\n",
       "        vertical-align: top;\n",
       "    }\n",
       "\n",
       "    .dataframe thead th {\n",
       "        text-align: right;\n",
       "    }\n",
       "</style>\n",
       "<table border=\"1\" class=\"dataframe\">\n",
       "  <thead>\n",
       "    <tr style=\"text-align: right;\">\n",
       "      <th></th>\n",
       "      <th>period</th>\n",
       "      <th>mean</th>\n",
       "      <th>count</th>\n",
       "      <th>sum</th>\n",
       "    </tr>\n",
       "  </thead>\n",
       "  <tbody>\n",
       "    <tr>\n",
       "      <td>0</td>\n",
       "      <td>6</td>\n",
       "      <td>0.466667</td>\n",
       "      <td>30</td>\n",
       "      <td>14.0</td>\n",
       "    </tr>\n",
       "    <tr>\n",
       "      <td>1</td>\n",
       "      <td>1</td>\n",
       "      <td>0.465672</td>\n",
       "      <td>6700</td>\n",
       "      <td>3120.0</td>\n",
       "    </tr>\n",
       "    <tr>\n",
       "      <td>2</td>\n",
       "      <td>3</td>\n",
       "      <td>0.453442</td>\n",
       "      <td>7002</td>\n",
       "      <td>3175.0</td>\n",
       "    </tr>\n",
       "    <tr>\n",
       "      <td>3</td>\n",
       "      <td>2</td>\n",
       "      <td>0.448802</td>\n",
       "      <td>5635</td>\n",
       "      <td>2529.0</td>\n",
       "    </tr>\n",
       "    <tr>\n",
       "      <td>4</td>\n",
       "      <td>5</td>\n",
       "      <td>0.442857</td>\n",
       "      <td>280</td>\n",
       "      <td>124.0</td>\n",
       "    </tr>\n",
       "    <tr>\n",
       "      <td>5</td>\n",
       "      <td>7</td>\n",
       "      <td>0.428571</td>\n",
       "      <td>7</td>\n",
       "      <td>3.0</td>\n",
       "    </tr>\n",
       "    <tr>\n",
       "      <td>6</td>\n",
       "      <td>4</td>\n",
       "      <td>0.413702</td>\n",
       "      <td>6043</td>\n",
       "      <td>2500.0</td>\n",
       "    </tr>\n",
       "  </tbody>\n",
       "</table>\n",
       "</div>"
      ],
      "text/plain": [
       "   period      mean  count     sum\n",
       "0       6  0.466667     30    14.0\n",
       "1       1  0.465672   6700  3120.0\n",
       "2       3  0.453442   7002  3175.0\n",
       "3       2  0.448802   5635  2529.0\n",
       "4       5  0.442857    280   124.0\n",
       "5       7  0.428571      7     3.0\n",
       "6       4  0.413702   6043  2500.0"
      ]
     },
     "execution_count": 64,
     "metadata": {},
     "output_type": "execute_result"
    }
   ],
   "source": [
    "period_stat = train_df.groupby([\"period\"])[\"shot_made_flag\"].agg([\"mean\",\"count\",\"sum\"]).sort_values(ascending=False, by=\"mean\").reset_index()\n",
    "period_stat # dataframe"
   ]
  },
  {
   "cell_type": "code",
   "execution_count": 65,
   "metadata": {},
   "outputs": [],
   "source": [
    "tr_P = pd.get_dummies(train_df[\"period\"])\n",
    "te_P = pd.get_dummies(test_df[\"period\"])"
   ]
  },
  {
   "cell_type": "code",
   "execution_count": 66,
   "metadata": {},
   "outputs": [],
   "source": [
    "train_df = train_df.join([tr_P]).drop(columns = [\"period\"])\n",
    "test_df = test_df.join([te_P]).drop(columns = [\"period\"])"
   ]
  },
  {
   "cell_type": "code",
   "execution_count": 67,
   "metadata": {},
   "outputs": [
    {
     "data": {
      "text/html": [
       "<div>\n",
       "<style scoped>\n",
       "    .dataframe tbody tr th:only-of-type {\n",
       "        vertical-align: middle;\n",
       "    }\n",
       "\n",
       "    .dataframe tbody tr th {\n",
       "        vertical-align: top;\n",
       "    }\n",
       "\n",
       "    .dataframe thead th {\n",
       "        text-align: right;\n",
       "    }\n",
       "</style>\n",
       "<table border=\"1\" class=\"dataframe\">\n",
       "  <thead>\n",
       "    <tr style=\"text-align: right;\">\n",
       "      <th></th>\n",
       "      <th>minutes_remaining</th>\n",
       "      <th>mean</th>\n",
       "      <th>count</th>\n",
       "      <th>sum</th>\n",
       "    </tr>\n",
       "  </thead>\n",
       "  <tbody>\n",
       "    <tr>\n",
       "      <td>0</td>\n",
       "      <td>7</td>\n",
       "      <td>0.481876</td>\n",
       "      <td>1876</td>\n",
       "      <td>904.0</td>\n",
       "    </tr>\n",
       "    <tr>\n",
       "      <td>1</td>\n",
       "      <td>9</td>\n",
       "      <td>0.479744</td>\n",
       "      <td>1876</td>\n",
       "      <td>900.0</td>\n",
       "    </tr>\n",
       "    <tr>\n",
       "      <td>2</td>\n",
       "      <td>6</td>\n",
       "      <td>0.469965</td>\n",
       "      <td>1981</td>\n",
       "      <td>931.0</td>\n",
       "    </tr>\n",
       "    <tr>\n",
       "      <td>3</td>\n",
       "      <td>5</td>\n",
       "      <td>0.465966</td>\n",
       "      <td>2189</td>\n",
       "      <td>1020.0</td>\n",
       "    </tr>\n",
       "    <tr>\n",
       "      <td>4</td>\n",
       "      <td>10</td>\n",
       "      <td>0.454950</td>\n",
       "      <td>1798</td>\n",
       "      <td>818.0</td>\n",
       "    </tr>\n",
       "    <tr>\n",
       "      <td>5</td>\n",
       "      <td>4</td>\n",
       "      <td>0.452243</td>\n",
       "      <td>2408</td>\n",
       "      <td>1089.0</td>\n",
       "    </tr>\n",
       "    <tr>\n",
       "      <td>6</td>\n",
       "      <td>3</td>\n",
       "      <td>0.451409</td>\n",
       "      <td>2377</td>\n",
       "      <td>1073.0</td>\n",
       "    </tr>\n",
       "    <tr>\n",
       "      <td>7</td>\n",
       "      <td>2</td>\n",
       "      <td>0.447247</td>\n",
       "      <td>2379</td>\n",
       "      <td>1064.0</td>\n",
       "    </tr>\n",
       "    <tr>\n",
       "      <td>8</td>\n",
       "      <td>1</td>\n",
       "      <td>0.447230</td>\n",
       "      <td>2274</td>\n",
       "      <td>1017.0</td>\n",
       "    </tr>\n",
       "    <tr>\n",
       "      <td>9</td>\n",
       "      <td>8</td>\n",
       "      <td>0.434534</td>\n",
       "      <td>1749</td>\n",
       "      <td>760.0</td>\n",
       "    </tr>\n",
       "    <tr>\n",
       "      <td>10</td>\n",
       "      <td>11</td>\n",
       "      <td>0.423476</td>\n",
       "      <td>1542</td>\n",
       "      <td>653.0</td>\n",
       "    </tr>\n",
       "    <tr>\n",
       "      <td>11</td>\n",
       "      <td>0</td>\n",
       "      <td>0.380542</td>\n",
       "      <td>3248</td>\n",
       "      <td>1236.0</td>\n",
       "    </tr>\n",
       "  </tbody>\n",
       "</table>\n",
       "</div>"
      ],
      "text/plain": [
       "    minutes_remaining      mean  count     sum\n",
       "0                   7  0.481876   1876   904.0\n",
       "1                   9  0.479744   1876   900.0\n",
       "2                   6  0.469965   1981   931.0\n",
       "3                   5  0.465966   2189  1020.0\n",
       "4                  10  0.454950   1798   818.0\n",
       "5                   4  0.452243   2408  1089.0\n",
       "6                   3  0.451409   2377  1073.0\n",
       "7                   2  0.447247   2379  1064.0\n",
       "8                   1  0.447230   2274  1017.0\n",
       "9                   8  0.434534   1749   760.0\n",
       "10                 11  0.423476   1542   653.0\n",
       "11                  0  0.380542   3248  1236.0"
      ]
     },
     "execution_count": 67,
     "metadata": {},
     "output_type": "execute_result"
    }
   ],
   "source": [
    "min_stat = train_df.groupby(\"minutes_remaining\")[\"shot_made_flag\"].agg([\"mean\",\"count\",\"sum\"]).sort_values(ascending=False, by=\"mean\").reset_index()\n",
    "min_stat # dataframe"
   ]
  },
  {
   "cell_type": "markdown",
   "metadata": {},
   "source": [
    "The shot taken within the last minute had a significant lower percentage. <br>\n",
    "Maybe I can consider using this to create a function to distinguish last minute and non-last minute shot"
   ]
  },
  {
   "cell_type": "code",
   "execution_count": 68,
   "metadata": {},
   "outputs": [],
   "source": [
    "def last_min(x):\n",
    "    if x == 0:\n",
    "        return (\"last minute\")\n",
    "    else:\n",
    "        return (\"non-last minute\")"
   ]
  },
  {
   "cell_type": "code",
   "execution_count": 69,
   "metadata": {},
   "outputs": [],
   "source": [
    "train_df[\"Last_min\"] = train_df[\"minutes_remaining\"].apply(last_min)\n",
    "test_df[\"Last_min\"] = test_df[\"minutes_remaining\"].apply(last_min)"
   ]
  },
  {
   "cell_type": "code",
   "execution_count": 70,
   "metadata": {},
   "outputs": [
    {
     "data": {
      "text/html": [
       "<div>\n",
       "<style scoped>\n",
       "    .dataframe tbody tr th:only-of-type {\n",
       "        vertical-align: middle;\n",
       "    }\n",
       "\n",
       "    .dataframe tbody tr th {\n",
       "        vertical-align: top;\n",
       "    }\n",
       "\n",
       "    .dataframe thead th {\n",
       "        text-align: right;\n",
       "    }\n",
       "</style>\n",
       "<table border=\"1\" class=\"dataframe\">\n",
       "  <thead>\n",
       "    <tr style=\"text-align: right;\">\n",
       "      <th></th>\n",
       "      <th>Last_min</th>\n",
       "      <th>mean</th>\n",
       "      <th>count</th>\n",
       "      <th>sum</th>\n",
       "    </tr>\n",
       "  </thead>\n",
       "  <tbody>\n",
       "    <tr>\n",
       "      <td>0</td>\n",
       "      <td>non-last minute</td>\n",
       "      <td>0.455655</td>\n",
       "      <td>22449</td>\n",
       "      <td>10229.0</td>\n",
       "    </tr>\n",
       "    <tr>\n",
       "      <td>1</td>\n",
       "      <td>last minute</td>\n",
       "      <td>0.380542</td>\n",
       "      <td>3248</td>\n",
       "      <td>1236.0</td>\n",
       "    </tr>\n",
       "  </tbody>\n",
       "</table>\n",
       "</div>"
      ],
      "text/plain": [
       "          Last_min      mean  count      sum\n",
       "0  non-last minute  0.455655  22449  10229.0\n",
       "1      last minute  0.380542   3248   1236.0"
      ]
     },
     "execution_count": 70,
     "metadata": {},
     "output_type": "execute_result"
    }
   ],
   "source": [
    "last_min_stat = train_df.groupby(\"Last_min\")[\"shot_made_flag\"].agg([\"mean\",\"count\",\"sum\"]).sort_values(ascending=False, by=\"mean\").reset_index()\n",
    "last_min_stat # dataframe"
   ]
  },
  {
   "cell_type": "code",
   "execution_count": 71,
   "metadata": {},
   "outputs": [],
   "source": [
    "# One-hot encoding last_min and then drop the columns\n",
    "tr_LM = pd.get_dummies(train_df[\"Last_min\"])\n",
    "te_LM = pd.get_dummies(test_df[\"Last_min\"])"
   ]
  },
  {
   "cell_type": "code",
   "execution_count": 72,
   "metadata": {},
   "outputs": [],
   "source": [
    "# joined the column to the training and testing dateset and then subsequently dropped them.\n",
    "train_df = train_df.join([tr_LM]).drop(columns = [\"Last_min\", \"minutes_remaining\"])\n",
    "test_df = test_df.join([te_LM]).drop(columns = [\"Last_min\", \"minutes_remaining\"])"
   ]
  },
  {
   "cell_type": "code",
   "execution_count": 73,
   "metadata": {},
   "outputs": [],
   "source": [
    "# Drop the rest of the column (e.g. lat, loc_x, loc_y, lon, seconds_remaining, game_date)\n",
    "train_df = train_df.drop(columns = [\"lat\", \"loc_x\", \"loc_y\", \"lon\", \"seconds_remaining\", \"game_date\"])\n",
    "test_df = test_df.drop(columns = [\"lat\", \"loc_x\", \"loc_y\", \"lon\", \"seconds_remaining\", \"game_date\"])"
   ]
  },
  {
   "cell_type": "code",
   "execution_count": 74,
   "metadata": {},
   "outputs": [
    {
     "data": {
      "text/plain": [
       "Index([             'playoffs',        'shot_made_flag',\n",
       "                   'Bank Shot',                  'Dunk',\n",
       "                   'Hook Shot',             'Jump Shot',\n",
       "                       'Layup',              'Tip Shot',\n",
       "              '2PT Field Goal',        '3PT Field Goal',\n",
       "                   '16-24 ft.',               '24+ ft.',\n",
       "                    '8-16 ft.',       'Back Court Shot',\n",
       "             'Less Than 8 ft.',             'Center(C)',\n",
       "        'Left Side Center(LC)',          'Left Side(L)',\n",
       "       'Right Side Center(RC)',         'Right Side(R)',\n",
       "                   'Away Game',             'Home Game',\n",
       "                     '1996-97',               '1997-98',\n",
       "                     '1998-99',               '1999-00',\n",
       "                     '2000-01',               '2001-02',\n",
       "                     '2002-03',               '2003-04',\n",
       "                     '2004-05',               '2005-06',\n",
       "                     '2006-07',               '2007-08',\n",
       "                     '2008-09',               '2009-10',\n",
       "                     '2010-11',               '2011-12',\n",
       "                     '2012-13',               '2013-14',\n",
       "                     '2014-15',               '2015-16',\n",
       "                             1,                       2,\n",
       "                             3,                       4,\n",
       "                             5,                       6,\n",
       "                             7,           'last minute',\n",
       "             'non-last minute'],\n",
       "      dtype='object')"
      ]
     },
     "execution_count": 74,
     "metadata": {},
     "output_type": "execute_result"
    }
   ],
   "source": [
    "train_df.columns"
   ]
  },
  {
   "cell_type": "markdown",
   "metadata": {},
   "source": [
    "# Model Training"
   ]
  },
  {
   "cell_type": "code",
   "execution_count": 75,
   "metadata": {},
   "outputs": [],
   "source": [
    "# Classification problem\n",
    "# Try with Linear Model first -  Logistic Regression\n",
    "# Set Y and then drop the column\n",
    "\n",
    "y = train_df[\"shot_made_flag\"]\n",
    "train_df = train_df.drop(columns = [\"shot_made_flag\"])"
   ]
  },
  {
   "cell_type": "code",
   "execution_count": 76,
   "metadata": {},
   "outputs": [],
   "source": [
    "test_df = test_df.drop(columns = [\"shot_made_flag\"])"
   ]
  },
  {
   "cell_type": "code",
   "execution_count": 77,
   "metadata": {},
   "outputs": [],
   "source": [
    "train_df = train_df.drop(columns = [7])"
   ]
  },
  {
   "cell_type": "code",
   "execution_count": 78,
   "metadata": {},
   "outputs": [],
   "source": [
    "# Transform the data\n",
    "from sklearn.preprocessing import StandardScaler\n",
    "scaler = StandardScaler()\n",
    "X_train = scaler.fit_transform(train_df)\n",
    "X_test = scaler.transform(test_df)"
   ]
  },
  {
   "cell_type": "code",
   "execution_count": 79,
   "metadata": {},
   "outputs": [
    {
     "name": "stdout",
     "output_type": "stream",
     "text": [
      "StratifiedKFold(n_splits=5, random_state=None, shuffle=False)\n"
     ]
    }
   ],
   "source": [
    "# train-test split using stratified K Fold\n",
    "skf = StratifiedKFold(n_splits=5)\n",
    "skf.get_n_splits(X_train, y)\n",
    "print(skf)"
   ]
  },
  {
   "cell_type": "code",
   "execution_count": 80,
   "metadata": {},
   "outputs": [],
   "source": [
    "# train test split the dataset\n",
    "trainX, testX, trainy, testy = train_test_split(X_train, y, test_size=0.2, random_state=2)"
   ]
  },
  {
   "cell_type": "code",
   "execution_count": 81,
   "metadata": {},
   "outputs": [
    {
     "data": {
      "text/plain": [
       "LogisticRegression(C=1.0, class_weight=None, dual=False, fit_intercept=True,\n",
       "                   intercept_scaling=1, l1_ratio=None, max_iter=100,\n",
       "                   multi_class='warn', n_jobs=None, penalty='l2',\n",
       "                   random_state=None, solver='lbfgs', tol=0.0001, verbose=0,\n",
       "                   warm_start=False)"
      ]
     },
     "execution_count": 81,
     "metadata": {},
     "output_type": "execute_result"
    }
   ],
   "source": [
    "# fit the model\n",
    "model = LogisticRegression(solver='lbfgs')\n",
    "model.fit(trainX, trainy)"
   ]
  },
  {
   "cell_type": "code",
   "execution_count": 82,
   "metadata": {},
   "outputs": [],
   "source": [
    "lr_probs = model.predict(testX)"
   ]
  },
  {
   "cell_type": "code",
   "execution_count": 83,
   "metadata": {},
   "outputs": [
    {
     "data": {
      "text/plain": [
       "0.0"
      ]
     },
     "execution_count": 83,
     "metadata": {},
     "output_type": "execute_result"
    }
   ],
   "source": [
    "lr_probs[1]"
   ]
  },
  {
   "cell_type": "code",
   "execution_count": 84,
   "metadata": {},
   "outputs": [
    {
     "name": "stdout",
     "output_type": "stream",
     "text": [
      "Logistic: ROC AUC=0.585\n"
     ]
    },
    {
     "data": {
      "image/png": "[encoded data removed]",
      "text/plain": [
       "<Figure size 432x288 with 1 Axes>"
      ]
     },
     "metadata": {
      "needs_background": "light"
     },
     "output_type": "display_data"
    }
   ],
   "source": [
    "# calculate scores\n",
    "lr_auc = roc_auc_score(testy, lr_probs)\n",
    "# summarize scores\n",
    "print('Logistic: ROC AUC=%.3f' % (lr_auc))\n",
    "# calculate roc curves\n",
    "lr_fpr, lr_tpr, _ = roc_curve(testy, lr_probs)\n",
    "# plot the roc curve for the model\n",
    "plt.plot(lr_fpr, lr_tpr, marker='.', label='Logistic')\n",
    "# axis labels\n",
    "plt.xlabel('False Positive Rate')\n",
    "plt.ylabel('True Positive Rate')\n",
    "# show the legend\n",
    "plt.legend()\n",
    "# show the plot\n",
    "plt.show()"
   ]
  }
 ],
 "metadata": {
  "kernelspec": {
   "display_name": "Python 3",
   "language": "python",
   "name": "python3"
  },
  "language_info": {
   "codemirror_mode": {
    "name": "ipython",
    "version": 3
   },
   "file_extension": ".py",
   "mimetype": "text/x-python",
   "name": "python",
   "nbconvert_exporter": "python",
   "pygments_lexer": "ipython3",
   "version": "3.7.4"
  }
 },
 "nbformat": 4,
 "nbformat_minor": 2
}
