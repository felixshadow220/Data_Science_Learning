{
 "cells": [
  {
   "cell_type": "code",
   "execution_count": 1,
   "metadata": {},
   "outputs": [],
   "source": [
    "import numpy as np # linear algebra\n",
    "import pandas as pd # data processing, CSV file I/O (e.g. pd.read_csv)\n",
    "from sklearn import feature_extraction, linear_model, model_selection, preprocessing\n",
    "import matplotlib.pyplot as plt # data visualization library\n",
    "import seaborn as sns\n",
    "\n",
    "%matplotlib inline"
   ]
  },
  {
   "cell_type": "code",
   "execution_count": 2,
   "metadata": {},
   "outputs": [],
   "source": [
    "# load the training and testing data set\n",
    "path = \"~/Data_Scientist/Kaggle/tweet-sentiment-extraction/\"\n",
    "\n",
    "train_df = pd.read_csv(path + \"train.csv\")\n",
    "test_df = pd.read_csv(path + \"test.csv\")"
   ]
  },
  {
   "cell_type": "code",
   "execution_count": 3,
   "metadata": {},
   "outputs": [
    {
     "data": {
      "text/plain": [
       "((27481, 4), (3534, 3))"
      ]
     },
     "execution_count": 3,
     "metadata": {},
     "output_type": "execute_result"
    }
   ],
   "source": [
    "# take a look at the shape of the 2 data sets\n",
    "train_df.shape, test_df.shape"
   ]
  },
  {
   "cell_type": "code",
   "execution_count": 4,
   "metadata": {},
   "outputs": [
    {
     "data": {
      "text/html": [
       "<div>\n",
       "<style scoped>\n",
       "    .dataframe tbody tr th:only-of-type {\n",
       "        vertical-align: middle;\n",
       "    }\n",
       "\n",
       "    .dataframe tbody tr th {\n",
       "        vertical-align: top;\n",
       "    }\n",
       "\n",
       "    .dataframe thead th {\n",
       "        text-align: right;\n",
       "    }\n",
       "</style>\n",
       "<table border=\"1\" class=\"dataframe\">\n",
       "  <thead>\n",
       "    <tr style=\"text-align: right;\">\n",
       "      <th></th>\n",
       "      <th>textID</th>\n",
       "      <th>text</th>\n",
       "      <th>selected_text</th>\n",
       "      <th>sentiment</th>\n",
       "    </tr>\n",
       "  </thead>\n",
       "  <tbody>\n",
       "    <tr>\n",
       "      <td>0</td>\n",
       "      <td>cb774db0d1</td>\n",
       "      <td>I`d have responded, if I were going</td>\n",
       "      <td>I`d have responded, if I were going</td>\n",
       "      <td>neutral</td>\n",
       "    </tr>\n",
       "    <tr>\n",
       "      <td>1</td>\n",
       "      <td>549e992a42</td>\n",
       "      <td>Sooo SAD I will miss you here in San Diego!!!</td>\n",
       "      <td>Sooo SAD</td>\n",
       "      <td>negative</td>\n",
       "    </tr>\n",
       "    <tr>\n",
       "      <td>2</td>\n",
       "      <td>088c60f138</td>\n",
       "      <td>my boss is bullying me...</td>\n",
       "      <td>bullying me</td>\n",
       "      <td>negative</td>\n",
       "    </tr>\n",
       "    <tr>\n",
       "      <td>3</td>\n",
       "      <td>9642c003ef</td>\n",
       "      <td>what interview! leave me alone</td>\n",
       "      <td>leave me alone</td>\n",
       "      <td>negative</td>\n",
       "    </tr>\n",
       "    <tr>\n",
       "      <td>4</td>\n",
       "      <td>358bd9e861</td>\n",
       "      <td>Sons of ****, why couldn`t they put them on t...</td>\n",
       "      <td>Sons of ****,</td>\n",
       "      <td>negative</td>\n",
       "    </tr>\n",
       "  </tbody>\n",
       "</table>\n",
       "</div>"
      ],
      "text/plain": [
       "       textID                                               text  \\\n",
       "0  cb774db0d1                I`d have responded, if I were going   \n",
       "1  549e992a42      Sooo SAD I will miss you here in San Diego!!!   \n",
       "2  088c60f138                          my boss is bullying me...   \n",
       "3  9642c003ef                     what interview! leave me alone   \n",
       "4  358bd9e861   Sons of ****, why couldn`t they put them on t...   \n",
       "\n",
       "                         selected_text sentiment  \n",
       "0  I`d have responded, if I were going   neutral  \n",
       "1                             Sooo SAD  negative  \n",
       "2                          bullying me  negative  \n",
       "3                       leave me alone  negative  \n",
       "4                        Sons of ****,  negative  "
      ]
     },
     "execution_count": 4,
     "metadata": {},
     "output_type": "execute_result"
    }
   ],
   "source": [
    "# Preview the training set\n",
    "train_df.head()"
   ]
  },
  {
   "cell_type": "code",
   "execution_count": 5,
   "metadata": {},
   "outputs": [
    {
     "data": {
      "text/html": [
       "<div>\n",
       "<style scoped>\n",
       "    .dataframe tbody tr th:only-of-type {\n",
       "        vertical-align: middle;\n",
       "    }\n",
       "\n",
       "    .dataframe tbody tr th {\n",
       "        vertical-align: top;\n",
       "    }\n",
       "\n",
       "    .dataframe thead th {\n",
       "        text-align: right;\n",
       "    }\n",
       "</style>\n",
       "<table border=\"1\" class=\"dataframe\">\n",
       "  <thead>\n",
       "    <tr style=\"text-align: right;\">\n",
       "      <th></th>\n",
       "      <th>textID</th>\n",
       "      <th>text</th>\n",
       "      <th>sentiment</th>\n",
       "    </tr>\n",
       "  </thead>\n",
       "  <tbody>\n",
       "    <tr>\n",
       "      <td>0</td>\n",
       "      <td>f87dea47db</td>\n",
       "      <td>Last session of the day  http://twitpic.com/67ezh</td>\n",
       "      <td>neutral</td>\n",
       "    </tr>\n",
       "    <tr>\n",
       "      <td>1</td>\n",
       "      <td>96d74cb729</td>\n",
       "      <td>Shanghai is also really exciting (precisely -...</td>\n",
       "      <td>positive</td>\n",
       "    </tr>\n",
       "    <tr>\n",
       "      <td>2</td>\n",
       "      <td>eee518ae67</td>\n",
       "      <td>Recession hit Veronique Branquinho, she has to...</td>\n",
       "      <td>negative</td>\n",
       "    </tr>\n",
       "    <tr>\n",
       "      <td>3</td>\n",
       "      <td>01082688c6</td>\n",
       "      <td>happy bday!</td>\n",
       "      <td>positive</td>\n",
       "    </tr>\n",
       "    <tr>\n",
       "      <td>4</td>\n",
       "      <td>33987a8ee5</td>\n",
       "      <td>http://twitpic.com/4w75p - I like it!!</td>\n",
       "      <td>positive</td>\n",
       "    </tr>\n",
       "  </tbody>\n",
       "</table>\n",
       "</div>"
      ],
      "text/plain": [
       "       textID                                               text sentiment\n",
       "0  f87dea47db  Last session of the day  http://twitpic.com/67ezh   neutral\n",
       "1  96d74cb729   Shanghai is also really exciting (precisely -...  positive\n",
       "2  eee518ae67  Recession hit Veronique Branquinho, she has to...  negative\n",
       "3  01082688c6                                        happy bday!  positive\n",
       "4  33987a8ee5             http://twitpic.com/4w75p - I like it!!  positive"
      ]
     },
     "execution_count": 5,
     "metadata": {},
     "output_type": "execute_result"
    }
   ],
   "source": [
    "# Preview the testing set\n",
    "test_df.head()"
   ]
  },
  {
   "cell_type": "code",
   "execution_count": 6,
   "metadata": {},
   "outputs": [
    {
     "data": {
      "text/plain": [
       "array(['neutral', 'negative', 'positive'], dtype=object)"
      ]
     },
     "execution_count": 6,
     "metadata": {},
     "output_type": "execute_result"
    }
   ],
   "source": [
    "# take a look of all setimemt types\n",
    "train_df[\"sentiment\"].unique()"
   ]
  },
  {
   "cell_type": "code",
   "execution_count": 7,
   "metadata": {},
   "outputs": [
    {
     "data": {
      "text/plain": [
       "Text(0.5, 0, 'Testing Set')"
      ]
     },
     "execution_count": 7,
     "metadata": {},
     "output_type": "execute_result"
    },
    {
     "data": {
      "image/png": "[encoded data removed]",
      "text/plain": [
       "<Figure size 864x576 with 2 Axes>"
      ]
     },
     "metadata": {
      "needs_background": "light"
     },
     "output_type": "display_data"
    }
   ],
   "source": [
    "# plot the sentiment distribution for the training and testing sets\n",
    "fig, axs = plt.subplots(1, 2, sharey=True, figsize=(12,8)) # create a subplot and set the figure size\n",
    "fig.suptitle(\"Sentiment Distribtuiton of Training and Testing set\", fontsize=20) # set a bigger font size\n",
    "\n",
    "# plot the distribution for the Training Set and Testing set\n",
    "sns.countplot(x=\"sentiment\", data =train_df, ax=axs[0]) \n",
    "sns.countplot(x=\"sentiment\", data =test_df, ax=axs[1])\n",
    "\n",
    "# annotate the percentage on top of each bar for both Training and Testing Set\n",
    "for j in range(2):\n",
    "    for i in axs[j].patches: \n",
    "        axs[j].text(i.get_x() + i.get_width()/3,           # set the text placement for x-axis\n",
    "                i.get_height()+100,                        # set the text placement for y-axis\n",
    "                i.get_height(),                            # set the value to show on top of each par\n",
    "                color=\"black\")                             # set the color to black\n",
    "\n",
    "axs[0].set_xlabel(\"Training Set\") # rename the x-axis for the subplot on the left to Training Set\n",
    "axs[1].set_xlabel(\"Testing Set\") # rename the x-axis for the subplot on the right to Testing Set"
   ]
  },
  {
   "cell_type": "markdown",
   "metadata": {},
   "source": [
    "1. The Training set has significantly more rows than the Testing Set. <br>\n",
    "2. For both the Training and Testing Sets, there are more rows idenified as neutural. <br>"
   ]
  },
  {
   "cell_type": "code",
   "execution_count": 8,
   "metadata": {},
   "outputs": [
    {
     "data": {
      "text/plain": [
       "' I`d have responded, if I were going'"
      ]
     },
     "execution_count": 8,
     "metadata": {},
     "output_type": "execute_result"
    }
   ],
   "source": [
    "# look at an example for neutral text\n",
    "train_df[train_df[\"sentiment\"] == \"neutral\"][\"text\"].values[0]"
   ]
  },
  {
   "cell_type": "code",
   "execution_count": 9,
   "metadata": {},
   "outputs": [
    {
     "data": {
      "text/plain": [
       "'I`d have responded, if I were going'"
      ]
     },
     "execution_count": 9,
     "metadata": {},
     "output_type": "execute_result"
    }
   ],
   "source": [
    "# look at an example for neutral selected_text\n",
    "train_df[train_df[\"sentiment\"] == \"neutral\"][\"selected_text\"].values[0]"
   ]
  },
  {
   "cell_type": "markdown",
   "metadata": {},
   "source": [
    "From the example above, it prompts me to think how many selected texts are identical to the text"
   ]
  },
  {
   "cell_type": "code",
   "execution_count": 10,
   "metadata": {},
   "outputs": [
    {
     "data": {
      "image/png": "[encoded data removed]",
      "text/plain": [
       "<Figure size 1152x864 with 3 Axes>"
      ]
     },
     "metadata": {
      "needs_background": "light"
     },
     "output_type": "display_data"
    }
   ],
   "source": [
    "fig, axs = plt.subplots(1, 3, sharey=True, figsize=(16,12)) # create a subplot and set the figure size\n",
    "fig.suptitle(\"Distribution of Identical and Non-identical Text for the 3 Sentiment Type\", \n",
    "             fontsize=20) # set a bigger font size\n",
    "\n",
    "# plot the distribution by using value_count function \n",
    "# to check how many selected texts that are identical with the original text\n",
    "\n",
    "# Plot Neutral Sentiment on the left grid\n",
    "(train_df[train_df[\"sentiment\"] == \"neutral\"][\"selected_text\"] \n",
    "            == train_df[train_df[\"sentiment\"] == \"neutral\"]\n",
    "             [\"text\"]).value_counts(sort=False).plot(kind='bar', # need to put sort=False in value_counts()\n",
    "                                                                 # the result will displace False first then True\n",
    "                                           title=\"Neutral Sentiment\",\n",
    "                                           color=\"g\",\n",
    "                                           fontsize=12,\n",
    "                                           ax=axs[0])\n",
    "\n",
    "# Plot Positive Sentiment on the middle grid\n",
    "(train_df[train_df[\"sentiment\"] == \"positive\"][\"selected_text\"] \n",
    "            == train_df[train_df[\"sentiment\"] == \"positive\"]\n",
    "             [\"text\"]).value_counts().plot(kind='bar',\n",
    "                                           title=\"Positive Sentiment\",\n",
    "                                           color=\"b\",\n",
    "                                           fontsize=12,\n",
    "                                           ax=axs[1])\n",
    "\n",
    "# Plot Negative Sentiment on the right grid\n",
    "(train_df[train_df[\"sentiment\"] == \"negative\"][\"selected_text\"] \n",
    "            == train_df[train_df[\"sentiment\"] == \"negative\"]\n",
    "             [\"text\"]).value_counts().plot(kind='bar',\n",
    "                                           title=\"Negative Sentiment\",\n",
    "                                           color=\"r\",\n",
    "                                           fontsize=12,\n",
    "                                           ax=axs[2])\n",
    "\n",
    "# rename the xtick label for the 3 graphs for easier understanding\n",
    "for i in range(3):\n",
    "    plt.sca(axs[i])\n",
    "    plt.xticks(range(2), [\"Non-identical\", \"Identical\"], rotation=45) # rotate the xtick label for 45 degree\n",
    "\n",
    "\n",
    "# annotate the percentage on top of each bar for Training Set\n",
    "for j in range(3):    \n",
    "    for i in axs[j].patches: \n",
    "        axs[j].text(i.get_x() + i.get_width()/3,           # set the text placement for x-axis\n",
    "                i.get_height()+50,                        # set the text placement for y-axis\n",
    "                i.get_height(),                            # set the value to show on top of each par\n",
    "                color=\"black\")                             # set the color to black"
   ]
  },
  {
   "cell_type": "code",
   "execution_count": 11,
   "metadata": {},
   "outputs": [
    {
     "data": {
      "text/plain": [
       "' I`d have responded, if I were going'"
      ]
     },
     "execution_count": 11,
     "metadata": {},
     "output_type": "execute_result"
    }
   ],
   "source": [
    "# look at the first text from neutral sentiment\n",
    "train_df[train_df[\"sentiment\"] == \"neutral\"][\"text\"].iloc[0]"
   ]
  },
  {
   "cell_type": "code",
   "execution_count": 12,
   "metadata": {},
   "outputs": [
    {
     "data": {
      "text/plain": [
       "'I`d have responded, if I were going'"
      ]
     },
     "execution_count": 12,
     "metadata": {},
     "output_type": "execute_result"
    }
   ],
   "source": [
    "# look at the first selected_text from neutral sentiment\n",
    "train_df[train_df[\"sentiment\"] == \"neutral\"][\"selected_text\"].iloc[0]"
   ]
  },
  {
   "cell_type": "markdown",
   "metadata": {},
   "source": [
    "text and selected_text look kind of similar...<br>\n",
    "Let's try to strip all the white space in the text and submit the first result."
   ]
  },
  {
   "cell_type": "markdown",
   "metadata": {},
   "source": [
    "### First Submission to Kaggle Leaderboard on 11 May, 2020\n",
    "\n",
    "By simply stripping all the white space from text and paste them as answers, <br>\n",
    "I achieved a score of 0.594, which is not a bad start. <br>\n",
    "However, I need to think about ways to improve the result. <br>"
   ]
  },
  {
   "cell_type": "code",
   "execution_count": 13,
   "metadata": {},
   "outputs": [],
   "source": [
    "# convert the data type of the text column into String (seems like there is a row that has a float)\n",
    "train_df[\"text\"] = train_df.text.astype(str)\n",
    "\n",
    "# strip all the white space from the text column\n",
    "train_df[\"text\"] = train_df[\"text\"].apply(lambda x: x.strip())"
   ]
  },
  {
   "cell_type": "code",
   "execution_count": 14,
   "metadata": {},
   "outputs": [
    {
     "data": {
      "image/png": "[encoded data removed]",
      "text/plain": [
       "<Figure size 1152x864 with 3 Axes>"
      ]
     },
     "metadata": {
      "needs_background": "light"
     },
     "output_type": "display_data"
    }
   ],
   "source": [
    "fig, axs = plt.subplots(1, 3, sharey=True, figsize=(16,12)) # create a subplot and set the figure size\n",
    "fig.suptitle(\"Distribution of Identical and Non-identical Text for the 3 Sentiment Type After Stripping the White Space\", \n",
    "             fontsize=20) # set a bigger font size\n",
    "\n",
    "# plot the distribution by using value_count function \n",
    "# to check how many selected texts that are identical with the original text\n",
    "\n",
    "# Plot Neutral Sentiment on the left grid\n",
    "(train_df[train_df[\"sentiment\"] == \"neutral\"][\"selected_text\"] \n",
    "            == train_df[train_df[\"sentiment\"] == \"neutral\"]\n",
    "             [\"text\"]).value_counts(sort=False).plot(kind='bar', # need to put sort=False in value_counts()\n",
    "                                                                 # the result will displace False first then True\n",
    "                                           title=\"Neutral Sentiment\",\n",
    "                                           color=\"g\",\n",
    "                                           fontsize=12,\n",
    "                                           ax=axs[0])\n",
    "\n",
    "# Plot Positive Sentiment on the middle grid\n",
    "(train_df[train_df[\"sentiment\"] == \"positive\"][\"selected_text\"] \n",
    "            == train_df[train_df[\"sentiment\"] == \"positive\"]\n",
    "             [\"text\"]).value_counts().plot(kind='bar',\n",
    "                                           title=\"Positive Sentiment\",\n",
    "                                           color=\"b\",\n",
    "                                           fontsize=12,\n",
    "                                           ax=axs[1])\n",
    "\n",
    "# Plot Negative Sentiment on the right grid\n",
    "(train_df[train_df[\"sentiment\"] == \"negative\"][\"selected_text\"] \n",
    "            == train_df[train_df[\"sentiment\"] == \"negative\"]\n",
    "             [\"text\"]).value_counts().plot(kind='bar',\n",
    "                                           title=\"Negative Sentiment\",\n",
    "                                           color=\"r\",\n",
    "                                           fontsize=12,\n",
    "                                           ax=axs[2])\n",
    "\n",
    "# rename the xtick label for the 3 graphs for easier understanding\n",
    "for i in range(3):\n",
    "    plt.sca(axs[i])\n",
    "    plt.xticks(range(2), [\"Non-identical\", \"Identical\"], rotation=45) # rotate the xtick label for 45 degree\n",
    "\n",
    "\n",
    "# annotate the percentage on top of each bar for Training Set\n",
    "for j in range(3):    \n",
    "    for i in axs[j].patches: \n",
    "        axs[j].text(i.get_x() + i.get_width()/3,           # set the text placement for x-axis\n",
    "                i.get_height()+50,                        # set the text placement for y-axis\n",
    "                i.get_height(),                            # set the value to show on top of each par\n",
    "                color=\"black\")                             # set the color to black"
   ]
  },
  {
   "cell_type": "markdown",
   "metadata": {},
   "source": [
    "After stripping the white space, the number of identical text increases across all 3 sentiments. <br>\n",
    "Neutral sentiment has an overwhelming high number of identical text and selected text.\n",
    "Next, I will take a look how different the selected text and text are for positive and negative sentiment."
   ]
  },
  {
   "cell_type": "code",
   "execution_count": 15,
   "metadata": {},
   "outputs": [
    {
     "data": {
      "text/plain": [
       "12262"
      ]
     },
     "execution_count": 15,
     "metadata": {},
     "output_type": "execute_result"
    }
   ],
   "source": [
    "# the number of identical selected and text across all 3 sentiments after stripping white space\n",
    "train_df[\"selected_text\"].where(train_df[\"selected_text\"].values==train_df[\"text\"].values).notna().sum()"
   ]
  },
  {
   "cell_type": "code",
   "execution_count": 16,
   "metadata": {},
   "outputs": [],
   "source": [
    "# subset the dataset based on the sentiment\n",
    "# Negative\n",
    "negative = train_df[train_df[\"sentiment\"] == \"negative\"]\n",
    "\n",
    "# Positive\n",
    "positive = train_df[train_df[\"sentiment\"] == \"positive\"]\n",
    "\n",
    "# Neutral\n",
    "neutral = train_df[train_df[\"sentiment\"] == \"neutral\"]"
   ]
  },
  {
   "cell_type": "code",
   "execution_count": 17,
   "metadata": {},
   "outputs": [
    {
     "data": {
      "text/plain": [
       "Int64Index([    1,     2,     3,     4,    12,    13,    15,    16,    17,\n",
       "               18,\n",
       "            ...\n",
       "            27438, 27439, 27440, 27456, 27463, 27464, 27470, 27472, 27476,\n",
       "            27477],\n",
       "           dtype='int64', length=7781)"
      ]
     },
     "execution_count": 17,
     "metadata": {},
     "output_type": "execute_result"
    }
   ],
   "source": [
    "negative[\"selected_text\"].where(negative[\"selected_text\"].values == negative[\"text\"].values).index"
   ]
  },
  {
   "cell_type": "code",
   "execution_count": 18,
   "metadata": {},
   "outputs": [
    {
     "data": {
      "text/plain": [
       "textID                               9642c003ef\n",
       "text             what interview! leave me alone\n",
       "selected_text                    leave me alone\n",
       "sentiment                              negative\n",
       "Name: 3, dtype: object"
      ]
     },
     "execution_count": 18,
     "metadata": {},
     "output_type": "execute_result"
    }
   ],
   "source": [
    "negative.iloc[2]"
   ]
  },
  {
   "cell_type": "markdown",
   "metadata": {},
   "source": [
    "### To be continue..."
   ]
  }
 ],
 "metadata": {
  "kernelspec": {
   "display_name": "Python 3",
   "language": "python",
   "name": "python3"
  },
  "language_info": {
   "codemirror_mode": {
    "name": "ipython",
    "version": 3
   },
   "file_extension": ".py",
   "mimetype": "text/x-python",
   "name": "python",
   "nbconvert_exporter": "python",
   "pygments_lexer": "ipython3",
   "version": "3.7.4"
  }
 },
 "nbformat": 4,
 "nbformat_minor": 2
}
